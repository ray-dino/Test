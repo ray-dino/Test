{
 "cells": [
  {
   "cell_type": "markdown",
   "metadata": {
    "nbpresent": {
     "id": "f586a592-f414-4fa0-9fc6-ef0453c7fba5"
    }
   },
   "source": [
    "# Hands-on Workshop (Part 1): How To Train Your Model\n",
    "\n",
    "\n",
    "Here's what we'll go over for the next 1 hour and 20 minutes. (Notes for hands on part 2 <a href =\"#handson2\">here</a>. Tutorial references <a href=\"#references\">here</a>.)\n",
    "\n",
    "<a href=\"#part1\">**1. Data Wrangling, Exploration (10 minutes)**</a>\n",
    "- <a href=\"#part1.1\">Loading & Cleaning</a>\n",
    "- <a href=\"#part1.2\">Preliminary exploratory data analysis</a>\n",
    "- <a href=\"#part1.3\">Pre-processing, splitting datasets for training</a>\n",
    "\n",
    "<a href=\"#part2\">**2. Training your model (1 hr)**</a>\n",
    "- <a href=\"#part2.1\">Logistic Regression Pseudo code</a>\n",
    "- <a href=\"#part2.2\">Going downhill: Training is all about optimization</a>\n",
    "- <a href=\"#part2.3\">Piecing everything together</a>\n",
    "    \n",
    "<a href=\"#part3\">**3. Training your model, like a pro (10 mins)**</a>\n",
    "- <a href=\"#part3.1\">Sklearn implementation</a>\n",
    "- <a href=\"#part3.2\">Quick intro to model evaluation & improvement</a>\n",
    "---"
   ]
  },
  {
   "cell_type": "markdown",
   "metadata": {
    "nbpresent": {
     "id": "cf55168a-74b8-4c3a-8e31-b221ccaa7e73"
    }
   },
   "source": [
    "# <a name=\"part1\">1. Data Wrangling, Exploration</a>"
   ]
  },
  {
   "cell_type": "code",
   "execution_count": 1,
   "metadata": {
    "collapsed": true,
    "nbpresent": {
     "id": "ae99a834-7946-40ef-99f4-1e2b1999b9d3"
    }
   },
   "outputs": [],
   "source": [
    "import pandas as pd\n",
    "import numpy as np\n",
    "import matplotlib.pyplot as plt\n",
    "import seaborn as sns\n",
    "\n",
    "%matplotlib inline\n",
    "plt.style.use('seaborn-white')"
   ]
  },
  {
   "cell_type": "markdown",
   "metadata": {
    "nbpresent": {
     "id": "5873023f-638e-4913-a7af-c032bbedd08b"
    }
   },
   "source": [
    "### <a name=\"part1.1\">Loading & Cleaning</a>\n",
    "Before training our model, let's first load the data and inspect the variables."
   ]
  },
  {
   "cell_type": "code",
   "execution_count": 2,
   "metadata": {
    "collapsed": false,
    "nbpresent": {
     "id": "10e51463-0ae3-4f8e-afce-7694c041588e"
    }
   },
   "outputs": [],
   "source": [
    "#Loading the dataset\n",
    "df = pd.read_csv('data/lendingclub.csv', encoding = \"latin-1\", low_memory=False)"
   ]
  },
  {
   "cell_type": "code",
   "execution_count": 3,
   "metadata": {
    "collapsed": false,
    "nbpresent": {
     "id": "ae1f2652-c788-4267-9a04-dd1ab6dadc98"
    }
   },
   "outputs": [
    {
     "data": {
      "text/html": [
       "<div>\n",
       "<table border=\"1\" class=\"dataframe\">\n",
       "  <thead>\n",
       "    <tr style=\"text-align: right;\">\n",
       "      <th></th>\n",
       "      <th>loan_amnt</th>\n",
       "      <th>loan_title</th>\n",
       "      <th>debt_to_income_ratio</th>\n",
       "      <th>zip_code</th>\n",
       "      <th>addr_state</th>\n",
       "      <th>emp_length</th>\n",
       "      <th>loan_approval</th>\n",
       "    </tr>\n",
       "  </thead>\n",
       "  <tbody>\n",
       "    <tr>\n",
       "      <th>0</th>\n",
       "      <td>1000.0</td>\n",
       "      <td>Wedding Covered but No Honeymoon</td>\n",
       "      <td>10%</td>\n",
       "      <td>481xx</td>\n",
       "      <td>NM</td>\n",
       "      <td>4 years</td>\n",
       "      <td>0</td>\n",
       "    </tr>\n",
       "    <tr>\n",
       "      <th>1</th>\n",
       "      <td>1000.0</td>\n",
       "      <td>Consolidating Debt</td>\n",
       "      <td>10%</td>\n",
       "      <td>010xx</td>\n",
       "      <td>MA</td>\n",
       "      <td>&lt; 1 year</td>\n",
       "      <td>0</td>\n",
       "    </tr>\n",
       "    <tr>\n",
       "      <th>2</th>\n",
       "      <td>11000.0</td>\n",
       "      <td>Want to consolidate my debt</td>\n",
       "      <td>10%</td>\n",
       "      <td>212xx</td>\n",
       "      <td>MD</td>\n",
       "      <td>1 year</td>\n",
       "      <td>0</td>\n",
       "    </tr>\n",
       "    <tr>\n",
       "      <th>3</th>\n",
       "      <td>6000.0</td>\n",
       "      <td>waksman</td>\n",
       "      <td>38.64%</td>\n",
       "      <td>017xx</td>\n",
       "      <td>MA</td>\n",
       "      <td>&lt; 1 year</td>\n",
       "      <td>0</td>\n",
       "    </tr>\n",
       "    <tr>\n",
       "      <th>4</th>\n",
       "      <td>1500.0</td>\n",
       "      <td>mdrigo</td>\n",
       "      <td>9.43%</td>\n",
       "      <td>209xx</td>\n",
       "      <td>MD</td>\n",
       "      <td>&lt; 1 year</td>\n",
       "      <td>0</td>\n",
       "    </tr>\n",
       "  </tbody>\n",
       "</table>\n",
       "</div>"
      ],
      "text/plain": [
       "   loan_amnt                        loan_title debt_to_income_ratio zip_code  \\\n",
       "0     1000.0  Wedding Covered but No Honeymoon                  10%    481xx   \n",
       "1     1000.0                Consolidating Debt                  10%    010xx   \n",
       "2    11000.0       Want to consolidate my debt                  10%    212xx   \n",
       "3     6000.0                           waksman               38.64%    017xx   \n",
       "4     1500.0                            mdrigo                9.43%    209xx   \n",
       "\n",
       "  addr_state emp_length  loan_approval  \n",
       "0         NM    4 years              0  \n",
       "1         MA   < 1 year              0  \n",
       "2         MD     1 year              0  \n",
       "3         MA   < 1 year              0  \n",
       "4         MD   < 1 year              0  "
      ]
     },
     "execution_count": 3,
     "metadata": {},
     "output_type": "execute_result"
    }
   ],
   "source": [
    "df.head()"
   ]
  },
  {
   "cell_type": "markdown",
   "metadata": {
    "nbpresent": {
     "id": "abae64a5-0de0-4280-947c-ba1211859531"
    }
   },
   "source": [
    "To understand the dataset more, let's look at its data dictionary before we start pre-processing:\n",
    "\n",
    "<table class=\"tg\">\n",
    "  <tr>\n",
    "    <th class=\"tg-5mgg\">Feature</th>\n",
    "    <th class=\"tg-5mgg\">Description</th>\n",
    "  </tr>\n",
    "  <tr>\n",
    "    <td class=\"tg-yw4l\">loan_amnt</td>\n",
    "    <td class=\"tg-yw4l\">The total amount requested by the borrower</td>\n",
    "  </tr>\n",
    "  <tr>\n",
    "    <td class=\"tg-yw4l\">loan_title</td>\n",
    "    <td class=\"tg-yw4l\">The loan title provided by the borrower</td>\n",
    "  </tr>\n",
    "  <tr>\n",
    "    <td class=\"tg-yw4l\">debt_to_income_ratio</td>\n",
    "    <td class=\"tg-yw4l\">A ratio calculated using the borrower’s total monthly debt payments on the total debt obligations, excluding mortgage and the requested LC loan, divided by the borrower’s self-reported monthly income.</td>\n",
    "  </tr>\n",
    "  <tr>\n",
    "    <td class=\"tg-yw4l\">zip_code</td>\n",
    "    <td class=\"tg-yw4l\">The first 3 numbers of the zip code provided by the borrower in the loan application.</td>\n",
    "  </tr>\n",
    "  <tr>\n",
    "    <td class=\"tg-yw4l\">addr_state</td>\n",
    "    <td class=\"tg-yw4l\">The state provided by the borrower in the loan application</td>\n",
    "  </tr>\n",
    "  <tr>\n",
    "    <td class=\"tg-yw4l\">emp_length</td>\n",
    "    <td class=\"tg-yw4l\">Employment length in years. Possible values are between 0 and 10 where 0 means less than one year and 10 means ten or more years.</td>\n",
    "  </tr>\n",
    "  <tr>\n",
    "    <td class=\"tg-yw4l\">loan_approval</td>\n",
    "    <td class=\"tg-yw4l\">0 = Rejected loan; 1 = Approved loan</td>\n",
    "  </tr>\n",
    "</table>"
   ]
  },
  {
   "cell_type": "markdown",
   "metadata": {
    "nbpresent": {
     "id": "3f68ec40-53bf-4e42-be88-3bb38078961b"
    }
   },
   "source": [
    "Some observations:\n",
    "1. The `loan_approval` column is the output $Y$ data, whereas everything else is part of the features $X$ input data.\n",
    "2. Since logistic regression can only work on quantitative inputs, let's remove the text or categorical columns from the input data for the sake of simplicity. Specifically, we'll remove the `loan_title`, `zip_code`, and `addr_state` columns.\n",
    "3. We need to convert the `debt_to_income_ratio` and `emp_length` columns to float (from text).\n",
    "\n",
    "<div class=warn>\n",
    "**Pro Tip:** For observation #2, you can also convert categorical columns to numbers via 1-hot encoding. We just won't do it due to time constraints.\n",
    "<div/>"
   ]
  },
  {
   "cell_type": "markdown",
   "metadata": {
    "nbpresent": {
     "id": "bd06bd2c-a491-41be-9a57-4a8d13e88673"
    }
   },
   "source": [
    "**Removing text and categorical columns**"
   ]
  },
  {
   "cell_type": "code",
   "execution_count": 4,
   "metadata": {
    "collapsed": false,
    "nbpresent": {
     "id": "c1823dc7-744c-4a2a-8440-07a857d2968f"
    }
   },
   "outputs": [],
   "source": [
    "#removing text and categorical columns\n",
    "df2 = df.drop([\"loan_title\", \"zip_code\", \"addr_state\"], axis=1)"
   ]
  },
  {
   "cell_type": "markdown",
   "metadata": {
    "nbpresent": {
     "id": "8faa235b-ac7e-4bce-b6ad-37fecb2f82d1"
    }
   },
   "source": [
    "**Converting emp_length and debt_to_income_ratio columns to float**\n",
    "\n",
    "To make the `emp_length` more workable, let's drop the \"year/years\" text and convert the values to integers."
   ]
  },
  {
   "cell_type": "code",
   "execution_count": 5,
   "metadata": {
    "collapsed": false,
    "nbpresent": {
     "id": "a99444ef-72c0-4853-adc8-0a781b04f1b9"
    }
   },
   "outputs": [],
   "source": [
    "# separate text using space as a delimiter\n",
    "emp = df2[\"emp_length\"].str.split(\" \")"
   ]
  },
  {
   "cell_type": "code",
   "execution_count": 6,
   "metadata": {
    "collapsed": true
   },
   "outputs": [],
   "source": [
    "# remove the \"year\" or \"years\" text at the end of each string overwrite emp_length column\n",
    "df2[\"emp_length\"] = [\"\".join(i[:-1]) for i in emp]"
   ]
  },
  {
   "cell_type": "code",
   "execution_count": 7,
   "metadata": {
    "collapsed": true
   },
   "outputs": [],
   "source": [
    "#For ease in analysis, replace all \"<1\" with 0 and all \"10+\" with 10 to make all values numeric\n",
    "df2[\"emp_length\"].replace({\"<1\":0, \"10+\":10}, inplace=True)"
   ]
  },
  {
   "cell_type": "code",
   "execution_count": 8,
   "metadata": {
    "collapsed": true
   },
   "outputs": [],
   "source": [
    "# convert the values into numeric data types\n",
    "df2[\"emp_length\"] = pd.to_numeric(df2[\"emp_length\"])"
   ]
  },
  {
   "cell_type": "code",
   "execution_count": 9,
   "metadata": {
    "collapsed": true
   },
   "outputs": [],
   "source": [
    "# Replace all null values with 0, for simplicity in analysis\n",
    "df2[\"emp_length\"].fillna(0, inplace=True)"
   ]
  },
  {
   "cell_type": "markdown",
   "metadata": {
    "nbpresent": {
     "id": "b9d6355c-7388-4628-b6a1-cabd33cf1219"
    }
   },
   "source": [
    "Now let's fix the `debt_to_income_ratio` column."
   ]
  },
  {
   "cell_type": "code",
   "execution_count": 10,
   "metadata": {
    "collapsed": false,
    "nbpresent": {
     "id": "5d94f1f8-f087-47a3-b945-0cbf4d65aa6d"
    }
   },
   "outputs": [],
   "source": [
    "#remove all percentage (%) signs at the end of each string\n",
    "df2[\"debt_to_income_ratio\"].replace(\"%$\", \"\", regex=True, inplace=True)"
   ]
  },
  {
   "cell_type": "code",
   "execution_count": 11,
   "metadata": {
    "collapsed": true
   },
   "outputs": [],
   "source": [
    "#convert each string to decimal\n",
    "df2[\"debt_to_income_ratio\"] = pd.to_numeric(df2[\"debt_to_income_ratio\"])/100"
   ]
  },
  {
   "cell_type": "code",
   "execution_count": 12,
   "metadata": {
    "collapsed": false,
    "nbpresent": {
     "id": "d2647b51-db0a-4cc3-a205-0e60f7b430fa"
    }
   },
   "outputs": [],
   "source": [
    "# make sure loan_approval column is integer\n",
    "df[\"loan_approval\"] = df[\"loan_approval\"].astype(\"int\")"
   ]
  },
  {
   "cell_type": "markdown",
   "metadata": {
    "nbpresent": {
     "id": "f2fc75fe-8afe-4026-b918-a509fdb94ebb"
    }
   },
   "source": [
    "Let's quickly check the dataset if all values have been cleaned."
   ]
  },
  {
   "cell_type": "code",
   "execution_count": 13,
   "metadata": {
    "collapsed": false,
    "nbpresent": {
     "id": "8fa5c1cd-af88-44ea-a33e-8140d04a9b0e"
    }
   },
   "outputs": [
    {
     "data": {
      "text/html": [
       "<div>\n",
       "<table border=\"1\" class=\"dataframe\">\n",
       "  <thead>\n",
       "    <tr style=\"text-align: right;\">\n",
       "      <th></th>\n",
       "      <th>loan_amnt</th>\n",
       "      <th>debt_to_income_ratio</th>\n",
       "      <th>emp_length</th>\n",
       "      <th>loan_approval</th>\n",
       "    </tr>\n",
       "  </thead>\n",
       "  <tbody>\n",
       "    <tr>\n",
       "      <th>count</th>\n",
       "      <td>7.979670e+05</td>\n",
       "      <td>797967.000000</td>\n",
       "      <td>797967.000000</td>\n",
       "      <td>797967.000000</td>\n",
       "    </tr>\n",
       "    <tr>\n",
       "      <th>mean</th>\n",
       "      <td>1.281319e+04</td>\n",
       "      <td>8.925064</td>\n",
       "      <td>1.375334</td>\n",
       "      <td>0.053304</td>\n",
       "    </tr>\n",
       "    <tr>\n",
       "      <th>std</th>\n",
       "      <td>1.053959e+04</td>\n",
       "      <td>584.867939</td>\n",
       "      <td>2.859773</td>\n",
       "      <td>0.224640</td>\n",
       "    </tr>\n",
       "    <tr>\n",
       "      <th>min</th>\n",
       "      <td>0.000000e+00</td>\n",
       "      <td>-0.010000</td>\n",
       "      <td>0.000000</td>\n",
       "      <td>0.000000</td>\n",
       "    </tr>\n",
       "    <tr>\n",
       "      <th>25%</th>\n",
       "      <td>5.000000e+03</td>\n",
       "      <td>0.053800</td>\n",
       "      <td>0.000000</td>\n",
       "      <td>0.000000</td>\n",
       "    </tr>\n",
       "    <tr>\n",
       "      <th>50%</th>\n",
       "      <td>1.000000e+04</td>\n",
       "      <td>0.160300</td>\n",
       "      <td>0.000000</td>\n",
       "      <td>0.000000</td>\n",
       "    </tr>\n",
       "    <tr>\n",
       "      <th>75%</th>\n",
       "      <td>2.000000e+04</td>\n",
       "      <td>0.293700</td>\n",
       "      <td>1.000000</td>\n",
       "      <td>0.000000</td>\n",
       "    </tr>\n",
       "    <tr>\n",
       "      <th>max</th>\n",
       "      <td>1.400000e+06</td>\n",
       "      <td>500000.314900</td>\n",
       "      <td>10.000000</td>\n",
       "      <td>1.000000</td>\n",
       "    </tr>\n",
       "  </tbody>\n",
       "</table>\n",
       "</div>"
      ],
      "text/plain": [
       "          loan_amnt  debt_to_income_ratio     emp_length  loan_approval\n",
       "count  7.979670e+05         797967.000000  797967.000000  797967.000000\n",
       "mean   1.281319e+04              8.925064       1.375334       0.053304\n",
       "std    1.053959e+04            584.867939       2.859773       0.224640\n",
       "min    0.000000e+00             -0.010000       0.000000       0.000000\n",
       "25%    5.000000e+03              0.053800       0.000000       0.000000\n",
       "50%    1.000000e+04              0.160300       0.000000       0.000000\n",
       "75%    2.000000e+04              0.293700       1.000000       0.000000\n",
       "max    1.400000e+06         500000.314900      10.000000       1.000000"
      ]
     },
     "execution_count": 13,
     "metadata": {},
     "output_type": "execute_result"
    }
   ],
   "source": [
    "df2.describe()"
   ]
  },
  {
   "cell_type": "markdown",
   "metadata": {
    "nbpresent": {
     "id": "3774c04d-6b2b-40da-8c2a-fa0af3be9ab2"
    }
   },
   "source": [
    "Looks good. Now let's try to understand the dataset more by visualizing their relationships."
   ]
  },
  {
   "cell_type": "markdown",
   "metadata": {
    "nbpresent": {
     "id": "8ed12b97-1ad0-4588-aa07-47aa87496b39"
    }
   },
   "source": [
    "### <a name=\"part1.2\">Preliminary exploratory data analysis</a>"
   ]
  },
  {
   "cell_type": "markdown",
   "metadata": {},
   "source": [
    "Let's look at the distributions of input features, segregated by loan approval outcome."
   ]
  },
  {
   "cell_type": "code",
   "execution_count": 14,
   "metadata": {
    "collapsed": false,
    "nbpresent": {
     "id": "d50c1a63-f786-449e-8e5d-200bfa37bef5"
    }
   },
   "outputs": [
    {
     "name": "stderr",
     "output_type": "stream",
     "text": [
      "/Users/regonglao/anaconda/lib/python3.5/site-packages/statsmodels/nonparametric/kdetools.py:20: VisibleDeprecationWarning: using a non-integer number instead of an integer will result in an error in the future\n",
      "  y = X[:m/2+1] + np.r_[0,X[m/2+1:],0]*1j\n"
     ]
    },
    {
     "data": {
      "text/plain": [
       "<matplotlib.text.Text at 0x12c9ddfd0>"
      ]
     },
     "execution_count": 14,
     "metadata": {},
     "output_type": "execute_result"
    },
    {
     "data": {
      "image/png": "[encoded data removed]",
      "text/plain": [
       "<matplotlib.figure.Figure at 0x12a37c630>"
      ]
     },
     "metadata": {},
     "output_type": "display_data"
    }
   ],
   "source": [
    "for key, grp in df2.groupby(\"loan_approval\"):\n",
    "    sns.distplot(np.log(grp[\"loan_amnt\"]), hist=False, kde_kws={\"shade\": True}, label=str(key))\n",
    "plt.legend([\"Rejected\", \"Approved\"], loc=\"best\")\n",
    "plt.title('Kernel Density Estimate of Loan Amounts', fontsize=15, fontweight='bold')"
   ]
  },
  {
   "cell_type": "code",
   "execution_count": 15,
   "metadata": {
    "collapsed": false,
    "nbpresent": {
     "id": "edfb23a5-3a17-404b-aed5-01e593df706a"
    }
   },
   "outputs": [
    {
     "name": "stderr",
     "output_type": "stream",
     "text": [
      "/Users/regonglao/anaconda/lib/python3.5/site-packages/statsmodels/nonparametric/kdetools.py:20: VisibleDeprecationWarning: using a non-integer number instead of an integer will result in an error in the future\n",
      "  y = X[:m/2+1] + np.r_[0,X[m/2+1:],0]*1j\n"
     ]
    },
    {
     "data": {
      "text/plain": [
       "<matplotlib.text.Text at 0x117d355c0>"
      ]
     },
     "execution_count": 15,
     "metadata": {},
     "output_type": "execute_result"
    },
    {
     "data": {
      "image/png": "[encoded data removed]",
      "text/plain": [
       "<matplotlib.figure.Figure at 0x12cc444e0>"
      ]
     },
     "metadata": {},
     "output_type": "display_data"
    }
   ],
   "source": [
    "for key, grp in df2.groupby(\"loan_approval\"):\n",
    "    sns.distplot(np.log(grp[\"debt_to_income_ratio\"]), hist=False, kde_kws={\"shade\": True}, label=str(key))\n",
    "plt.legend([\"Rejected\", \"Approved\"], loc=\"best\")\n",
    "plt.title('Kernel Density Estimate of Debt-to-Income Ratio', fontsize=15, fontweight='bold')"
   ]
  },
  {
   "cell_type": "code",
   "execution_count": 16,
   "metadata": {
    "collapsed": false,
    "nbpresent": {
     "id": "a96d94f7-10ad-4dd4-b3c4-315bd283bc4a"
    }
   },
   "outputs": [
    {
     "name": "stderr",
     "output_type": "stream",
     "text": [
      "/Users/regonglao/anaconda/lib/python3.5/site-packages/statsmodels/nonparametric/kdetools.py:20: VisibleDeprecationWarning: using a non-integer number instead of an integer will result in an error in the future\n",
      "  y = X[:m/2+1] + np.r_[0,X[m/2+1:],0]*1j\n"
     ]
    },
    {
     "data": {
      "text/plain": [
       "<matplotlib.text.Text at 0x11a054cc0>"
      ]
     },
     "execution_count": 16,
     "metadata": {},
     "output_type": "execute_result"
    },
    {
     "data": {
      "image/png": "[encoded data removed]",
      "text/plain": [
       "<matplotlib.figure.Figure at 0x117d8a860>"
      ]
     },
     "metadata": {},
     "output_type": "display_data"
    }
   ],
   "source": [
    "for key, grp in df2.groupby(\"loan_approval\"):\n",
    "    sns.distplot(np.log(grp[\"emp_length\"]), hist=False, kde_kws={\"shade\": True}, label=str(key))\n",
    "plt.legend([\"Rejected\", \"Approved\"], loc=\"best\")\n",
    "plt.title('Kernel Density Estimate of Employment Length', fontsize=15, fontweight='bold')"
   ]
  },
  {
   "cell_type": "markdown",
   "metadata": {
    "nbpresent": {
     "id": "3063c70b-1f0b-4a41-8a73-9c5ff330d7b0"
    }
   },
   "source": [
    "Seems like `emp_length` *isn't* a good indicator for loan_approval, but the others might be. Let's look at pair-wise relationships between variables to check for patterns."
   ]
  },
  {
   "cell_type": "code",
   "execution_count": 17,
   "metadata": {
    "collapsed": false,
    "nbpresent": {
     "id": "cee89978-44f1-4331-9448-51801f67f564"
    }
   },
   "outputs": [
    {
     "data": {
      "text/plain": [
       "<seaborn.axisgrid.PairGrid at 0x12a37c390>"
      ]
     },
     "execution_count": 17,
     "metadata": {},
     "output_type": "execute_result"
    },
    {
     "data": {
      "image/png": "[encoded data removed]",
      "text/plain": [
       "<matplotlib.figure.Figure at 0x12a37c908>"
      ]
     },
     "metadata": {},
     "output_type": "display_data"
    }
   ],
   "source": [
    "sns.pairplot(df2, hue=\"loan_approval\")"
   ]
  },
  {
   "cell_type": "markdown",
   "metadata": {
    "nbpresent": {
     "id": "4723be6b-b311-4d60-83c7-e8070eba37a3"
    }
   },
   "source": [
    "Let's zone into the pairwise relationships by restricting the axis limits of the plots."
   ]
  },
  {
   "cell_type": "code",
   "execution_count": 18,
   "metadata": {
    "collapsed": false,
    "nbpresent": {
     "id": "9005ba51-0173-499e-a2ee-341c59e2eada"
    }
   },
   "outputs": [
    {
     "data": {
      "image/png": "[encoded data removed]",
      "text/plain": [
       "<matplotlib.figure.Figure at 0x12a37cfd0>"
      ]
     },
     "metadata": {},
     "output_type": "display_data"
    }
   ],
   "source": [
    "g = sns.FacetGrid(df2, hue=\"loan_approval\", palette=\"Set1\", size=5, hue_kws={\"marker\": [\"o\", \"x\"]})\n",
    "g.map(plt.scatter, \"debt_to_income_ratio\", \"loan_amnt\", s=100, linewidth=.5, edgecolor=\"white\", alpha=.6)\n",
    "g.add_legend();"
   ]
  },
  {
   "cell_type": "code",
   "execution_count": 19,
   "metadata": {
    "collapsed": false,
    "nbpresent": {
     "id": "55f8e9fd-cae0-41e0-8901-b47687221ed8"
    }
   },
   "outputs": [
    {
     "data": {
      "text/plain": [
       "(-10, 40000)"
      ]
     },
     "execution_count": 19,
     "metadata": {},
     "output_type": "execute_result"
    },
    {
     "data": {
      "image/png": "[encoded data removed]",
      "text/plain": [
       "<matplotlib.figure.Figure at 0x12c9fdb70>"
      ]
     },
     "metadata": {},
     "output_type": "display_data"
    }
   ],
   "source": [
    "g = sns.FacetGrid(df2, hue=\"loan_approval\", palette=\"Set1\", size=5, hue_kws={\"marker\": [\"o\", \"x\"]})\n",
    "g.map(plt.scatter, \"debt_to_income_ratio\", \"loan_amnt\", s=100, linewidth=.5, edgecolor=\"white\", alpha=.6)\n",
    "g.add_legend()\n",
    "plt.ylim(-10,40000)\n",
    "plt.xlim(-10,40000)"
   ]
  },
  {
   "cell_type": "code",
   "execution_count": 20,
   "metadata": {
    "collapsed": false,
    "nbpresent": {
     "id": "3a597bbe-2052-4a95-a922-31bcb82e27fa"
    }
   },
   "outputs": [
    {
     "data": {
      "image/png": "[encoded data removed]",
      "text/plain": [
       "<matplotlib.figure.Figure at 0x12d2e00b8>"
      ]
     },
     "metadata": {},
     "output_type": "display_data"
    }
   ],
   "source": [
    "g = sns.FacetGrid(df2, hue=\"loan_approval\", palette=\"Set1\", size=5, hue_kws={\"marker\": [\"o\", \"x\"]})\n",
    "g.map(plt.scatter, \"emp_length\", \"loan_amnt\", s=100, linewidth=.5, edgecolor=\"white\", alpha=.6)\n",
    "g.add_legend();"
   ]
  },
  {
   "cell_type": "code",
   "execution_count": 21,
   "metadata": {
    "collapsed": false,
    "nbpresent": {
     "id": "e623a5e3-0765-4326-b53b-d3886a9143ea"
    }
   },
   "outputs": [
    {
     "data": {
      "image/png": "[encoded data removed]",
      "text/plain": [
       "<matplotlib.figure.Figure at 0x11c5ac780>"
      ]
     },
     "metadata": {},
     "output_type": "display_data"
    }
   ],
   "source": [
    "g = sns.FacetGrid(df2, hue=\"loan_approval\", palette=\"Set1\", size=5, hue_kws={\"marker\": [\"o\", \"x\"]})\n",
    "g.map(plt.scatter, \"emp_length\", \"debt_to_income_ratio\", s=100, linewidth=.5, edgecolor=\"white\", alpha=.6)\n",
    "g.add_legend();"
   ]
  },
  {
   "cell_type": "markdown",
   "metadata": {
    "nbpresent": {
     "id": "2324164c-b454-4ba6-b441-1c3091ed4650"
    }
   },
   "source": [
    "Looks like the data variables are good features to predict loan approval status."
   ]
  },
  {
   "cell_type": "markdown",
   "metadata": {
    "nbpresent": {
     "id": "3953fa06-b1ce-4c48-95ac-9ac143708f5a"
    }
   },
   "source": [
    "### <a name=\"part1.3\">Pre-processing, splitting datasets for training</a>\n",
    "#### Split into input X and output Y datasets\n",
    "Before training the model, let's split the data into input $X$ and output $Y$ datasets. Recall that the `loan_approval` column is the output data."
   ]
  },
  {
   "cell_type": "code",
   "execution_count": 22,
   "metadata": {
    "collapsed": true,
    "nbpresent": {
     "id": "b0f3588a-e260-4246-b973-bdb89cc4397e"
    }
   },
   "outputs": [],
   "source": [
    "Y = df2[\"loan_approval\"]\n",
    "X = df2.drop(\"loan_approval\", axis=1)"
   ]
  },
  {
   "cell_type": "markdown",
   "metadata": {},
   "source": [
    "#### Split X and Y into training and test sets\n",
    "\n",
    "Our model performs well if it generalizes well, i.e., if can do accurate predictions for \"new, unseen data\".\n",
    "\n",
    "To check this, we usually split our dataset into training and test sets to simulate having \"unseen data\", usually with a 80%-20% split for training and test data. We use the training set for model training, and the test set to check if our model gives accurate predictions.\n",
    "\n",
    "<img src=\"images/holdout.png\">\n",
    "\n",
    "<div class=warn>\n",
    "**Pro Tip:** In the next hands-on session, we'll discuss cross-validation, and how this fits in the model training-test cycle.\n",
    "<div/>"
   ]
  },
  {
   "cell_type": "code",
   "execution_count": 23,
   "metadata": {
    "collapsed": false
   },
   "outputs": [],
   "source": [
    "## Randomly split dataset into 70% training, 30% test. Split inputs X from outputs Y\n",
    "\n",
    "from sklearn.cross_validation import train_test_split\n",
    "X_train, X_test, Y_train, Y_test = train_test_split(X, Y, test_size=0.3, random_state=0)"
   ]
  },
  {
   "cell_type": "markdown",
   "metadata": {
    "nbpresent": {
     "id": "186c5b7b-c30c-4f32-abf1-eac29772154e"
    }
   },
   "source": [
    "#### Do Feature Normalization\n",
    "\n",
    "Before we train your model, it's helpful to normalize your data to help speed up the model's weight optimization process (i.e., gradient descent) by using **Z-score standardization**. In a nutshell, it standardizes your data to have mean $\\mu=0$ and standard deviation $\\sigma=1$.\n",
    "\n",
    "$$X_{standardized} = \\dfrac{X-\\mu}{\\sigma}$$\n",
    "\n",
    "Why do feature normalization?\n",
    "- makes the intercept term easier to interpret, and to make coefficients on the same scale\n",
    "- needed before feature engineering (e.g., making squared versions of your featuers) to avoid high correlations with synthetic features\n",
    "- speed up convergence of weight optimization (i.e., gradient descent) during model training\n",
    "\n",
    "**Rule of thumb:** *\"When in doubt, just standardize the data, it shouldn’t hurt.\" - Sebastian Raschka*\n",
    "\n",
    "An easy way to implement this uses `sklearn`:"
   ]
  },
  {
   "cell_type": "code",
   "execution_count": 24,
   "metadata": {
    "collapsed": false,
    "nbpresent": {
     "id": "cfe8d39e-2ea7-4dd0-a2de-29a610a5863e"
    }
   },
   "outputs": [],
   "source": [
    "from sklearn import preprocessing\n",
    "\n",
    "# get mean and stdev of training data for standardization\n",
    "scaler = preprocessing.StandardScaler() \n",
    "scaler.fit(X_train) #good practice to use .fit, later to be applied to X_test\n",
    "\n",
    "# apply standardization to training data\n",
    "X_scaled = scaler.transform(X_train)\n",
    "X_train_scaled = pd.DataFrame(X_scaled, columns = X_train.columns, index = X_train.index)\n",
    "\n",
    "# apply standardization derived from training data to test data\n",
    "# Note that we're using the training set's mean and std to standardize test data\n",
    "X_scaled2 = scaler.transform(X_test)\n",
    "X_test_scaled  = pd.DataFrame(X_scaled2, columns = X_test.columns, index = X_test.index)"
   ]
  },
  {
   "cell_type": "code",
   "execution_count": 25,
   "metadata": {
    "collapsed": false
   },
   "outputs": [
    {
     "data": {
      "text/plain": [
       "loan_amnt              -9.237842e-16\n",
       "debt_to_income_ratio    5.443195e-16\n",
       "emp_length              3.213029e-15\n",
       "dtype: float64"
      ]
     },
     "execution_count": 25,
     "metadata": {},
     "output_type": "execute_result"
    }
   ],
   "source": [
    "# sanity check: standarized dataset has approx. zero mean\n",
    "X_train_scaled.mean(axis=0)"
   ]
  },
  {
   "cell_type": "code",
   "execution_count": 26,
   "metadata": {
    "collapsed": false
   },
   "outputs": [
    {
     "data": {
      "text/plain": [
       "loan_amnt               1.000001\n",
       "debt_to_income_ratio    1.000001\n",
       "emp_length              1.000001\n",
       "dtype: float64"
      ]
     },
     "execution_count": 26,
     "metadata": {},
     "output_type": "execute_result"
    }
   ],
   "source": [
    "# sanity check: standarized dataset has approx. 1 as standard deviation\n",
    "X_train_scaled.std(axis=0)"
   ]
  },
  {
   "cell_type": "markdown",
   "metadata": {
    "collapsed": true,
    "nbpresent": {
     "id": "caa90303-aa22-45f5-9c6f-f652ed89d873"
    }
   },
   "source": [
    "# 2. <a name=\"part2\">Training your Model</a>\n",
    "\n",
    "### <a name=\"part2.1\">Logistic Regression Pseudocode</a>\n",
    "\n",
    "    1. def sigmoid\n",
    "    2. def cost function\n",
    "    3. implement gradient descent\n",
    "    4. fit model to train set"
   ]
  },
  {
   "cell_type": "markdown",
   "metadata": {
    "nbpresent": {
     "id": "d25669d2-fc0e-4e72-8fa4-2229e2122ec3"
    }
   },
   "source": [
    "**1. `def sigmoid`**\n",
    "\n",
    "Before we start, let's code the sigmoid function first. Recall that $e^{-z}$ has the following graph:\n",
    "<img src = \"images/gamma-e-x.gif\" height=\"300\" width=\"300\">\n",
    "\n",
    "The sigmoid function is the **link function** which maps the weighted inputs $X$ to the outputs $Y$. Its formula is as follows:\n",
    "\n",
    "$$sigmoid(z) = \\dfrac{1}{1+e^{-z}}$$\n",
    "\n",
    "where $z = \\theta \\cdot X = \\theta _0 + \\theta _1 \\cdot X_1+ \\theta _2 \\cdot X_2 + ... $ which is the weighted sum for input $X$.\n",
    "\n",
    "\n",
    "\n",
    "Looking at the sigmoid formula and the behavior of $e^{-z}$, you can convince yourself *why* it's always able to output values between 0 and 1. Ask yourself the following questions:\n",
    "- Is $sigmoid(z)$ always positive?\n",
    "- Is $sigmoid(z)$ always greater than 0?\n",
    "- Is $sigmoid(z)$ always less than 1?"
   ]
  },
  {
   "cell_type": "code",
   "execution_count": 27,
   "metadata": {
    "collapsed": true,
    "nbpresent": {
     "id": "c6af6408-fc5e-4c90-8a59-f46fe15c4f1f"
    }
   },
   "outputs": [],
   "source": [
    "def sigmoid(z):  \n",
    "    sig = 1.0 / (1.0 + np.exp(-z))\n",
    "    return sig"
   ]
  },
  {
   "cell_type": "markdown",
   "metadata": {
    "nbpresent": {
     "id": "7fb70816-290b-40b2-90a2-18abb7d53ffa"
    }
   },
   "source": [
    "Let's visualize the sigmoid function. Looking at it, it makes sense to use these to map binary outcomes for continuous inputs!"
   ]
  },
  {
   "cell_type": "code",
   "execution_count": 28,
   "metadata": {
    "collapsed": false,
    "nbpresent": {
     "id": "089a5911-d7e8-4cf6-8cce-e879d52667a3"
    }
   },
   "outputs": [
    {
     "data": {
      "text/plain": [
       "[<matplotlib.lines.Line2D at 0x133cbef28>]"
      ]
     },
     "execution_count": 28,
     "metadata": {},
     "output_type": "execute_result"
    },
    {
     "data": {
      "image/png": "[encoded data removed]",
      "text/plain": [
       "<matplotlib.figure.Figure at 0x133cb38d0>"
      ]
     },
     "metadata": {},
     "output_type": "display_data"
    }
   ],
   "source": [
    "nums = np.arange(-10, 10, step=1)\n",
    "plt.plot(nums, sigmoid(nums), 'b')"
   ]
  },
  {
   "cell_type": "markdown",
   "metadata": {
    "nbpresent": {
     "id": "f1958bdb-9c5b-40a2-8c22-d905d6374a77"
    }
   },
   "source": [
    "**2. `def cost function`**\n",
    "\n",
    "But how do we even find the optimal weights for inputs $X$? **Whenever one talks about optimizing, we should talk about cost first. Knowing what's \"bad\" for our model would let us know how to make it better.**\n",
    "\n",
    "To quantify how \"bad\" our model is, let's define the cost function for logistic regression. **Common sense tells us that if the labelling is *wrong*, we should penalize this by assigning this a high cost.** To define this mathematically, we use the logarithmic function (the inverse function for natural exponential function $e^{x}$) as follows:\n",
    "\n",
    "- Cost for $Y=1$: $-\\log(sigmoid(z))$\n",
    "- Cost for $Y=0$: $-\\log(1-sigmoid(z))$\n",
    "\n",
    "We can visualize this as follows:"
   ]
  },
  {
   "cell_type": "code",
   "execution_count": 29,
   "metadata": {
    "collapsed": false
   },
   "outputs": [
    {
     "data": {
      "text/plain": [
       "<matplotlib.legend.Legend at 0x11b9fa128>"
      ]
     },
     "execution_count": 29,
     "metadata": {},
     "output_type": "execute_result"
    },
    {
     "data": {
      "image/png": "[encoded data removed]",
      "text/plain": [
       "<matplotlib.figure.Figure at 0x11b9f2ac8>"
      ]
     },
     "metadata": {},
     "output_type": "display_data"
    }
   ],
   "source": [
    "def cost_1(z):\n",
    "    return - np.log(sigmoid(z))\n",
    "\n",
    "def cost_0(z):\n",
    "    return - np.log(1 - sigmoid(z))\n",
    "\n",
    "z = np.arange(-10, 10, 0.1)\n",
    "phi_z = sigmoid(z)\n",
    "\n",
    "c1 = [cost_1(x) for x in z]\n",
    "plt.plot(phi_z, c1, label='J(w) if y=1')\n",
    "\n",
    "c0 = [cost_0(x) for x in z]\n",
    "plt.plot(phi_z, c0, linestyle='--', label='J(w) if y=0')\n",
    "\n",
    "plt.ylim(0.0, 5.1)\n",
    "plt.xlim([0, 1])\n",
    "plt.xlabel('$sigmoid(z)$')\n",
    "plt.ylabel('Cost')\n",
    "plt.legend(loc='best')"
   ]
  },
  {
   "cell_type": "markdown",
   "metadata": {},
   "source": [
    "Now that we've defined the costs for both $Y=0$ and $Y=1$, it'd be good to get one number as basis if our model is doing better or worse. To do this, we:\n",
    "\n",
    "(1) For each set of inputs, combine costs for both $Y=0$ and $Y=1$ into 1 function by putting an appropriate \"weight\" when each of them gets \"activated\":\n",
    "\n",
    "$Cost(x) = (-(y-1)\\cdot Cost_{Y=0}) + (y\\cdot Cost_{Y=1})$\n",
    "\n",
    "$= (y-1)\\cdot \\log(1-sigmoid(z)) - y\\cdot \\log(sigmoid(z))$\n",
    "\n",
    "(2) then get the average of all costs to yield one number.\n",
    "\n",
    "We can then code our LR cost function as follows:"
   ]
  },
  {
   "cell_type": "code",
   "execution_count": 30,
   "metadata": {
    "collapsed": true,
    "nbpresent": {
     "id": "85018bd7-17e7-40de-9495-bdb54da07a99"
    }
   },
   "outputs": [],
   "source": [
    "# def logit_cost(y, y_val):\n",
    "#     logit = -y.dot(np.log(y_val)) - ((1 - y).dot(np.log(1 - y_val)))\n",
    "#     return logit/len(y)"
   ]
  },
  {
   "cell_type": "code",
   "execution_count": 31,
   "metadata": {
    "collapsed": false
   },
   "outputs": [],
   "source": [
    "def logit_cost(y, y_val):\n",
    "    cost=0\n",
    "    a = np.array(y)\n",
    "    b = np.array(y_val)\n",
    "    for idx, y in enumerate(a):\n",
    "        if y == 1:\n",
    "            cost += -np.log(b[idx])\n",
    "        elif y == 0:\n",
    "            cost += -np.log(1 - b[idx])\n",
    "    return cost/len(a)"
   ]
  },
  {
   "cell_type": "markdown",
   "metadata": {},
   "source": [
    "Let's test the cost function by applying it on dummy data. Which one should have a lower cost?"
   ]
  },
  {
   "cell_type": "code",
   "execution_count": 32,
   "metadata": {
    "collapsed": false
   },
   "outputs": [
    {
     "name": "stdout",
     "output_type": "stream",
     "text": [
      "Cost for predicted_labels1: 1.20397280433\n",
      "Cost for predicted_labels2: 0.105360515658\n"
     ]
    }
   ],
   "source": [
    "actual_labels = np.array([1,1])\n",
    "predicted_labels1 = np.array([0.9, 0.1])\n",
    "predicted_labels2 = np.array([0.9, 0.9])\n",
    "\n",
    "print(\"Cost for predicted_labels1:\", logit_cost(actual_labels, predicted_labels1))\n",
    "print(\"Cost for predicted_labels2:\", logit_cost(actual_labels, predicted_labels2))"
   ]
  },
  {
   "cell_type": "markdown",
   "metadata": {},
   "source": [
    "This shows that our cost function is correct, since it assigned a lower cost for `predicted_labels2` since they're closer to the `actual_labels`."
   ]
  },
  {
   "cell_type": "markdown",
   "metadata": {
    "nbpresent": {
     "id": "fbb914dd-de90-4f2a-9e56-2a75e7d04ef9"
    }
   },
   "source": [
    "### <a name=\"part2.2\">Going downhill: Training is all about optimization</a>\n",
    "Now that we've quantified how \"bad\" a model is, how do we make it better? Logically, we'd want to go in the direction of the lowest cost. Here's where gradient descent comes in.\n",
    "\n",
    "**The descent.** Gradient descent is a method which allows us to optimize the model's weights by minimizing cost. It starts with zero weights for our model, but improves the model iteratively by always trying to go **in the direction of the fastest decrease in cost**. After $N$ iterations, the best model parameters are those with the lowest cost among all iterations.\n",
    "\n",
    "*Imagine that you woke up on a mountain without a map, and you want to go back to flat land. What's the most logical way to do this while relying on what you can see around you? Wherever you are, always take the steepest path going downhill.*\n",
    "\n",
    "<img src=\"images/gradient descent 2.png\" height=\"500\" width=\"500\">"
   ]
  },
  {
   "cell_type": "markdown",
   "metadata": {
    "nbpresent": {
     "id": "aaadb571-41a6-4927-85d6-a27762d76fe1"
    }
   },
   "source": [
    "**The gradient.** Mathematically speaking, we use the slope or \"gradient\" to find the path with the steepest decrease in cost. For each weight $\\theta_j$, we improve the weights by adjusting it as follows: $\\theta_j := \\theta_j - \\alpha \\cdot$ slope of cost function\n",
    "\n",
    "Now let's write down the technical code for this.\n",
    "\n",
    "<div class=warn>\n",
    "**Pro Tip:** Due to random initialization, there're times that gradient descent can get stuck in local minimum and not find the global minimum. The best way to combat this is randomly initialize your model multiple times, and get the best-performing model.\n",
    "<div/>"
   ]
  },
  {
   "cell_type": "markdown",
   "metadata": {},
   "source": [
    "**3. `implement gradient descent`**\n",
    "\n",
    "Let's initialize the number iterations, learning rate, weights, and cost."
   ]
  },
  {
   "cell_type": "code",
   "execution_count": 33,
   "metadata": {
    "collapsed": false,
    "nbpresent": {
     "id": "142b5648-c534-4c60-9814-bb04d42983e4"
    }
   },
   "outputs": [],
   "source": [
    "eta=0.01 #gradient descent's learning rate (between 0.0 and 1.0)\n",
    "n_iter=500 #number of iterations for the gradient descent\n",
    "w_ = np.zeros(1 + X_train_scaled.shape[1]) # initialize zero weights for all features (including intercept term)\n",
    "cost_ = [] # initialize blank cost list"
   ]
  },
  {
   "cell_type": "markdown",
   "metadata": {},
   "source": [
    "Let's write the function for gradient descent."
   ]
  },
  {
   "cell_type": "code",
   "execution_count": 34,
   "metadata": {
    "collapsed": false,
    "nbpresent": {
     "id": "031b809d-2829-49bd-9873-016ed9c57075"
    }
   },
   "outputs": [],
   "source": [
    "def fit(X, y, w_, eta, n_iter, cost_):\n",
    "    #loop over gradient descent for multiple iterations\n",
    "    for i in range(n_iter):\n",
    "        # compute for the weighted inputs by multiplying it against current weights\n",
    "        w_inputs = np.dot(X, w_[1:]) + w_[0]\n",
    "        \n",
    "        # compute for predicted label using the sigmoid function\n",
    "        y_val = sigmoid(w_inputs)\n",
    "        \n",
    "        # compute for the errors\n",
    "        errors = -(y_val-y)\n",
    "        neg_grad = X.T.dot(errors)/len(errors)\n",
    "        \n",
    "        #update weights to be used in the next iteration\n",
    "        w_[1:] += eta * neg_grad\n",
    "        w_[0] += eta * errors.sum() # only sum is needed since intercept is just a column of ones\n",
    "        \n",
    "        #update ongoing list of costs\n",
    "        cost_.append(logit_cost(y, np.log(sigmoid(np.dot(X, w_[1:]) + w_[0]))))\n",
    "    return cost_, w_"
   ]
  },
  {
   "cell_type": "markdown",
   "metadata": {
    "nbpresent": {
     "id": "f081e166-0458-4e5c-b519-2d5a20bef135"
    }
   },
   "source": [
    "### <a name=\"part2.3\"> Piecing everything together </a>\n",
    "Now let's put all of these together to fit our model to the dataset.\n",
    "\n",
    "**4. `fit model to train set`**"
   ]
  },
  {
   "cell_type": "code",
   "execution_count": 35,
   "metadata": {
    "collapsed": false
   },
   "outputs": [],
   "source": [
    "#putting everything together\n",
    "cost, weights = fit(X_train_scaled, Y_train, w_, eta, n_iter, cost_)"
   ]
  },
  {
   "cell_type": "code",
   "execution_count": 36,
   "metadata": {
    "collapsed": false
   },
   "outputs": [
    {
     "data": {
      "text/plain": [
       "array([ -4.34256052e+03,  -4.45973772e-02,  -3.53909857e-03,\n",
       "         3.18587943e-01])"
      ]
     },
     "execution_count": 36,
     "metadata": {},
     "output_type": "execute_result"
    }
   ],
   "source": [
    "weights"
   ]
  },
  {
   "cell_type": "markdown",
   "metadata": {
    "nbpresent": {
     "id": "d4f64460-2ebc-434c-a4b6-6d2f5a408f4a"
    }
   },
   "source": [
    "### Predicting probabilities & outputs for test set\n",
    "\n",
    "Let's look at the output of our model on the test data, and compute basic accuracy."
   ]
  },
  {
   "cell_type": "code",
   "execution_count": 37,
   "metadata": {
    "collapsed": true,
    "nbpresent": {
     "id": "148cc43c-0d6c-47ad-99a0-432d129ba4e4"
    }
   },
   "outputs": [],
   "source": [
    "def predict_proba(X, w_):\n",
    "    return sigmoid(np.dot(X, w_[1:]) + w_[0])\n",
    "\n",
    "def predict(X, w_):\n",
    "    # equivalent to np.where(self.activation(X) >= 0.5, 1, 0)\n",
    "    net_input = np.dot(X, w_[1:]) + w_[0]\n",
    "    return np.where(sigmoid(net_input) >= 0.5, 1, 0)"
   ]
  },
  {
   "cell_type": "markdown",
   "metadata": {},
   "source": [
    "<div class=warn>\n",
    "**Pro Tip:** For the sake of simplicity and aligned with convention, our predictor assumes that if the probability probability $\\geq$ 0.5, it is labelled with 1. Otherwise, it will be classified as 0. However, we can vary this threshold later on using the ROC (Receiver operating characteristic) curve, which will be explained more later in part 2."
   ]
  },
  {
   "cell_type": "code",
   "execution_count": 38,
   "metadata": {
    "collapsed": false
   },
   "outputs": [
    {
     "data": {
      "text/html": [
       "<div>\n",
       "<table border=\"1\" class=\"dataframe\">\n",
       "  <thead>\n",
       "    <tr style=\"text-align: right;\">\n",
       "      <th></th>\n",
       "      <th>loan_amnt</th>\n",
       "      <th>debt_to_income_ratio</th>\n",
       "      <th>emp_length</th>\n",
       "    </tr>\n",
       "  </thead>\n",
       "  <tbody>\n",
       "    <tr>\n",
       "      <th>693946</th>\n",
       "      <td>-0.269978</td>\n",
       "      <td>-0.013387</td>\n",
       "      <td>3.016128</td>\n",
       "    </tr>\n",
       "    <tr>\n",
       "      <th>14912</th>\n",
       "      <td>-0.510971</td>\n",
       "      <td>-0.013196</td>\n",
       "      <td>-0.131242</td>\n",
       "    </tr>\n",
       "    <tr>\n",
       "      <th>498461</th>\n",
       "      <td>-1.137552</td>\n",
       "      <td>-0.013333</td>\n",
       "      <td>-0.480950</td>\n",
       "    </tr>\n",
       "    <tr>\n",
       "      <th>529506</th>\n",
       "      <td>-0.269978</td>\n",
       "      <td>-0.012447</td>\n",
       "      <td>-0.480950</td>\n",
       "    </tr>\n",
       "    <tr>\n",
       "      <th>16634</th>\n",
       "      <td>-0.944758</td>\n",
       "      <td>-0.013352</td>\n",
       "      <td>0.218465</td>\n",
       "    </tr>\n",
       "  </tbody>\n",
       "</table>\n",
       "</div>"
      ],
      "text/plain": [
       "        loan_amnt  debt_to_income_ratio  emp_length\n",
       "693946  -0.269978             -0.013387    3.016128\n",
       "14912   -0.510971             -0.013196   -0.131242\n",
       "498461  -1.137552             -0.013333   -0.480950\n",
       "529506  -0.269978             -0.012447   -0.480950\n",
       "16634   -0.944758             -0.013352    0.218465"
      ]
     },
     "execution_count": 38,
     "metadata": {},
     "output_type": "execute_result"
    }
   ],
   "source": [
    "#sanity check\n",
    "X_test_scaled.head()"
   ]
  },
  {
   "cell_type": "code",
   "execution_count": 41,
   "metadata": {
    "collapsed": false,
    "scrolled": true
   },
   "outputs": [
    {
     "data": {
      "text/plain": [
       "0.94698213383126351"
      ]
     },
     "execution_count": 41,
     "metadata": {},
     "output_type": "execute_result"
    }
   ],
   "source": [
    "accuracy_score(Y_test, predict(X_test_scaled, weights))"
   ]
  },
  {
   "cell_type": "markdown",
   "metadata": {},
   "source": [
    "But did our model really do well? A quick check of our confusion matrix (which, in a nutshell, maps the true/false positives/negatives) will show us how our model fared:\n",
    "<img src=\"images/confusion_matrix.png\">"
   ]
  },
  {
   "cell_type": "code",
   "execution_count": 40,
   "metadata": {
    "collapsed": false,
    "nbpresent": {
     "id": "4e7f1eb0-4b93-48f5-8c95-adf0c40920b3"
    }
   },
   "outputs": [
    {
     "data": {
      "text/plain": [
       "array([[226699,      0],\n",
       "       [ 12692,      0]])"
      ]
     },
     "execution_count": 40,
     "metadata": {},
     "output_type": "execute_result"
    }
   ],
   "source": [
    "from sklearn.metrics import confusion_matrix, accuracy_score\n",
    "confusion_matrix(Y_test, predict(X_test_scaled, weights))"
   ]
  },
  {
   "cell_type": "markdown",
   "metadata": {},
   "source": [
    "Plotting the ROC (Receiver Operating Characteristic) curve will give us an idea of our model's improvement with varying classification threshold."
   ]
  },
  {
   "cell_type": "code",
   "execution_count": 42,
   "metadata": {
    "collapsed": false
   },
   "outputs": [
    {
     "data": {
      "image/png": "[encoded data removed]",
      "text/plain": [
       "<matplotlib.figure.Figure at 0x12c05b8d0>"
      ]
     },
     "metadata": {},
     "output_type": "display_data"
    }
   ],
   "source": [
    "from sklearn.metrics import roc_curve, auc\n",
    "\n",
    "fpr, tpr, _ = roc_curve(Y_test, predict(X_test_scaled, weights))\n",
    "roc_auc = auc(fpr, tpr)\n",
    "\n",
    "plt.title('Receiver Operating Characteristic')\n",
    "plt.plot(fpr,tpr , 'b', label='AUC = %0.2f'% roc_auc)\n",
    "plt.legend(loc='lower right')\n",
    "plt.plot([0,1],[0,1],'r--')\n",
    "plt.xlim([-0.1,1.2])\n",
    "plt.ylim([-0.1,1.2])\n",
    "plt.ylabel('True Positive Rate')\n",
    "plt.xlabel('False Positive Rate')\n",
    "plt.show()"
   ]
  },
  {
   "cell_type": "markdown",
   "metadata": {},
   "source": [
    "High accuracy, but looks like our model's really bad since it just keeps on predicting zeroes. What happened? Basic data stats shows that labelled data is skewed in favor of rejected loans, which skewed the gradient descent towards predicting zeroes."
   ]
  },
  {
   "cell_type": "code",
   "execution_count": 43,
   "metadata": {
    "collapsed": false
   },
   "outputs": [
    {
     "data": {
      "text/plain": [
       "0    755432\n",
       "1     42535\n",
       "Name: loan_approval, dtype: int64"
      ]
     },
     "execution_count": 43,
     "metadata": {},
     "output_type": "execute_result"
    }
   ],
   "source": [
    "Y.value_counts()"
   ]
  },
  {
   "cell_type": "markdown",
   "metadata": {},
   "source": [
    "The problem of unbalanced datasets is a prevalent one, especially for fraud classification or risk analysis. So how do we handle unbalanced datasets? One easy way is to use `sklearn`'s built-in tools to handle this."
   ]
  },
  {
   "cell_type": "markdown",
   "metadata": {
    "nbpresent": {
     "id": "e0ff68f5-efee-4d31-969c-d1b548b94427"
    }
   },
   "source": [
    "---\n",
    "# <a name=\"part3\">3. Training your model, like a pro</a>"
   ]
  },
  {
   "cell_type": "markdown",
   "metadata": {
    "nbpresent": {
     "id": "c0d0932e-29fc-4cff-9646-6bcbdb6483f7"
    }
   },
   "source": [
    "### <a name=\"part3.1\">Sklearn implementation</a>\n",
    "\n",
    "sklearn has a built-in method to implement Logistic Regression. For unbalanced datasets such as ours, we can use the `class_weight` parameter of the LogisticRegression classifier. It automatically adjust weights inversely proportional to class frequencies in the input data as `n_samples / (n_classes * np.bincount(y))`.)"
   ]
  },
  {
   "cell_type": "code",
   "execution_count": 44,
   "metadata": {
    "collapsed": false,
    "nbpresent": {
     "id": "bda10878-c4e1-4ead-a883-f0d87d4d0e84"
    }
   },
   "outputs": [
    {
     "data": {
      "text/plain": [
       "LogisticRegression(C=1.0, class_weight='balanced', dual=False,\n",
       "          fit_intercept=True, intercept_scaling=1, max_iter=100,\n",
       "          multi_class='ovr', n_jobs=1, penalty='l2', random_state=1234,\n",
       "          solver='liblinear', tol=0.0001, verbose=0, warm_start=False)"
      ]
     },
     "execution_count": 44,
     "metadata": {},
     "output_type": "execute_result"
    }
   ],
   "source": [
    "from sklearn import cross_validation\n",
    "from sklearn.linear_model import LogisticRegression\n",
    "from sklearn.metrics import confusion_matrix\n",
    "\n",
    "logreg = LogisticRegression(random_state=1234, class_weight='balanced')\n",
    "#good practice to include a random_state number for reproducibility\n",
    "\n",
    "logreg.fit(X_train_scaled, Y_train)"
   ]
  },
  {
   "cell_type": "markdown",
   "metadata": {
    "nbpresent": {
     "id": "edcc0a1d-3780-4688-ba15-46ce40be1577"
    }
   },
   "source": [
    "Now let's try to look at model performance:"
   ]
  },
  {
   "cell_type": "code",
   "execution_count": 45,
   "metadata": {
    "collapsed": false,
    "nbpresent": {
     "id": "28a73360-2c20-46fb-8f26-61c76a6fe255"
    }
   },
   "outputs": [
    {
     "data": {
      "text/plain": [
       "array([[189885,  36814],\n",
       "       [  4172,   8520]])"
      ]
     },
     "execution_count": 45,
     "metadata": {},
     "output_type": "execute_result"
    }
   ],
   "source": [
    "confusion_matrix(Y_test, logreg.predict(X_test_scaled))"
   ]
  },
  {
   "cell_type": "code",
   "execution_count": 46,
   "metadata": {
    "collapsed": false
   },
   "outputs": [
    {
     "data": {
      "text/plain": [
       "0.82879055603594121"
      ]
     },
     "execution_count": 46,
     "metadata": {},
     "output_type": "execute_result"
    }
   ],
   "source": [
    "accuracy_score(Y_test, logreg.predict(X_test_scaled))"
   ]
  },
  {
   "cell_type": "code",
   "execution_count": 47,
   "metadata": {
    "collapsed": false
   },
   "outputs": [
    {
     "data": {
      "image/png": "[encoded data removed]",
      "text/plain": [
       "<matplotlib.figure.Figure at 0x11d66eb38>"
      ]
     },
     "metadata": {},
     "output_type": "display_data"
    }
   ],
   "source": [
    "#for imbalanced datasets, the best way to tweak it is to adjust the threshold using the AUC\n",
    "from sklearn.metrics import roc_curve, auc\n",
    "\n",
    "fpr, tpr, _ = roc_curve(Y_test, logreg.predict(X_test_scaled))\n",
    "roc_auc = auc(fpr, tpr)\n",
    "\n",
    "plt.title('Receiver Operating Characteristic')\n",
    "plt.plot(fpr,tpr , 'b', label='AUC = %0.5f'% roc_auc)\n",
    "plt.legend(loc='lower right')\n",
    "plt.plot([0,1],[0,1],'r--')\n",
    "plt.xlim([-0.1,1.2])\n",
    "plt.ylim([-0.1,1.2])\n",
    "plt.ylabel('True Positive Rate')\n",
    "plt.xlabel('False Positive Rate')\n",
    "plt.show()"
   ]
  },
  {
   "cell_type": "markdown",
   "metadata": {
    "nbpresent": {
     "id": "b33b9a08-3bd4-4721-88be-c1eb623bb0de"
    }
   },
   "source": [
    "### <a name=\"part3.2\">Quick intro to model evaluation & improvement</a>\n",
    "Now that we've trained our model, how do we know if we have best model that we can possibly get?\n",
    "\n",
    "After the break, we'll look at the *other* parts of the model which we can tinker with, how to best evaluate model performance, and how we can better interpret model results."
   ]
  },
  {
   "cell_type": "markdown",
   "metadata": {
    "nbpresent": {
     "id": "8d1ee29d-b47f-4268-8e12-cc7aab108532"
    }
   },
   "source": [
    "---\n",
    "\n",
    "---\n",
    "# <a name=\"handson2\">Hands-on Workshop (Part 2): How To Improve Your Model</a>\n",
    "\n",
    "\n",
    "Here's what we'll go over for the next 1.5 hours.\n",
    "\n",
    "<a href=\"#part4\">**1. Improving your model (40 minutes)**</a>\n",
    "- <a href=\"#part4.1\">Model Goodness-of-Fit: Bias-Variance tradeoff</a>\n",
    "- <a href=\"#part4.2\">A Note on Regularization</a>\n",
    "- <a href=\"#part4.3\">Hyperparameter tuning: It's still about optimization</a>\n",
    "\n",
    "<a href=\"#part5\">**2. Model Evaluation (20 minutes)**</a>\n",
    "- <a href=\"#part5.1\">Validation VS Test data</a>\n",
    "- <a href=\"#part5.2\">K-fold cross-validation: making the most out of your data</a>\n",
    "\n",
    "<a href=\"#part6\">**3. Model Selection (30 minutes)**</a>\n",
    "- <a href=\"#part6.1\">Model performance metrics</a>\n",
    "- <a href=\"#part6.2\">Going deeper into the data problem: Predictors of loan rejection</a>\n",
    "\n",
    "---"
   ]
  },
  {
   "cell_type": "markdown",
   "metadata": {
    "nbpresent": {
     "id": "49d250ce-b251-421b-9174-23d3f90d3d4e"
    }
   },
   "source": [
    "# <a name=\"part4\">1. Improving your model </a>\n",
    "\n",
    "### <a name=\"part4.1\">Model Goodness-of-Fit: Bias-Variance Tradeoff</a>\n",
    "How do we know if our model fits the data well? Here's where the bias-variance tradeoff comes in. Let's look at some plots first to get an intuition of their difference.\n",
    "\n",
    "<img src = \"images/fitting.png\">\n",
    "\n",
    "This leads to two questions:\n",
    "1. How do you know if you have a high bias (underfit), or a high variance (overfit) problem?\n",
    "2. What do I do if I have a high bias problem? A high variance problem?"
   ]
  },
  {
   "cell_type": "markdown",
   "metadata": {},
   "source": [
    "#### Learning Curves\n",
    "\n",
    "Overfitting occurs when the model has too many features with weights, whereas underfitting occurs where there are too few.\n",
    "\n",
    "To visualize this, let's compare our model's prediction error (for both training and test sets) against model complexity (e.g., polynomial degree). It makes sense to think that if:\n",
    "- **model underfits (high bias):** both test and training error are high, since model poorly predicts for both\n",
    "- **model overfits (high variance):** the test error should be high while training error is low, since model is overly fitted to the training data and fails to generalize\n",
    "\n",
    "<img src = \"images/bias-variance2.png\" height =\"400\" width = \"400\">"
   ]
  },
  {
   "cell_type": "markdown",
   "metadata": {},
   "source": [
    "So where do learning curves come in? We can plot the change in training and test scores as we increase the number of training examples to visualize this:\n",
    "\n",
    "<img src = \"images/bias-var-sr.png\" height = \"500\" width = \"500\">"
   ]
  },
  {
   "cell_type": "markdown",
   "metadata": {},
   "source": [
    "Let's try plotting the learning curve of our model using scikitlearn:"
   ]
  },
  {
   "cell_type": "code",
   "execution_count": 48,
   "metadata": {
    "collapsed": true
   },
   "outputs": [],
   "source": [
    "from sklearn.cross_validation import ShuffleSplit\n",
    "from sklearn.learning_curve import learning_curve\n",
    "\n",
    "def plot_learning_curve(estimator, title, X, y, ylim=None, cv=None,\n",
    "                        n_jobs=1, train_sizes=np.linspace(.1, 1.0, 5)):\n",
    "    plt.figure()\n",
    "    plt.title(title)\n",
    "    if ylim is not None:\n",
    "        plt.ylim(*ylim)\n",
    "    plt.xlabel(\"Training examples\")\n",
    "    plt.ylabel(\"Score\")\n",
    "    train_sizes, train_scores, test_scores = learning_curve(\n",
    "        estimator, X, y, cv=cv, n_jobs=n_jobs, train_sizes=train_sizes)\n",
    "    train_scores_mean = np.mean(train_scores, axis=1)\n",
    "    train_scores_std = np.std(train_scores, axis=1)\n",
    "    test_scores_mean = np.mean(test_scores, axis=1)\n",
    "    test_scores_std = np.std(test_scores, axis=1)\n",
    "    plt.grid()\n",
    "\n",
    "    plt.fill_between(train_sizes, train_scores_mean - train_scores_std,\n",
    "                     train_scores_mean + train_scores_std, alpha=0.1,\n",
    "                     color=\"r\")\n",
    "    plt.fill_between(train_sizes, test_scores_mean - test_scores_std,\n",
    "                     test_scores_mean + test_scores_std, alpha=0.1, color=\"g\")\n",
    "    plt.plot(train_sizes, train_scores_mean, 'o-', color=\"r\",\n",
    "             label=\"Training score\")\n",
    "    plt.plot(train_sizes, test_scores_mean, 'o-', color=\"g\",\n",
    "             label=\"Cross-validation score\")\n",
    "\n",
    "    plt.legend(loc=\"best\")\n",
    "    return plt"
   ]
  },
  {
   "cell_type": "code",
   "execution_count": 49,
   "metadata": {
    "collapsed": false,
    "nbpresent": {
     "id": "7c3e9778-484b-44fc-8139-1fc36779ae4b"
    }
   },
   "outputs": [
    {
     "data": {
      "text/plain": [
       "<module 'matplotlib.pyplot' from '/Users/regonglao/anaconda/lib/python3.5/site-packages/matplotlib/pyplot.py'>"
      ]
     },
     "execution_count": 49,
     "metadata": {},
     "output_type": "execute_result"
    },
    {
     "data": {
      "image/png": "[encoded data removed]",
      "text/plain": [
       "<matplotlib.figure.Figure at 0x11db312e8>"
      ]
     },
     "metadata": {},
     "output_type": "display_data"
    }
   ],
   "source": [
    "#we'll discuss cross-validation in more depth later\n",
    "cv = ShuffleSplit(X_train_scaled.shape[0], n_iter=10, test_size=0.2, random_state=0)\n",
    "title = 'Learning Curves for Linear Regression'\n",
    "plot_learning_curve(logreg, title, X_train_scaled, Y_train, cv=cv)"
   ]
  },
  {
   "cell_type": "markdown",
   "metadata": {},
   "source": [
    "Looks like we have a high bias problem, which makes sense since we only have 3 features for prediction.\n",
    "\n",
    "#### Next steps\n",
    "\n",
    "What do I do if I have a...\n",
    "**high bias problem?**\n",
    "- increase your number of features (e.g., feature engineering by combining features)\n",
    "\n",
    "**high variance problem?**\n",
    "- get more training examples\n",
    "- use regularization to reduce your features to the key ones"
   ]
  },
  {
   "cell_type": "markdown",
   "metadata": {},
   "source": [
    "### <a name=\"part4.2\">A Note on Regularization</a>\n",
    "Wait, what's regularization? And how do I make sure I have the best model I can get from regularization?\n",
    "\n",
    "**Regularization is used to prevent overfitting** by inducing it to pick as few features as needed. It heavily penalizes the model if it used too many features by tweaking the cost function, such as by adding squared versions of the weights:\n",
    "\n",
    "*Regularized cost function = $C$ * cost function* $ + \\Sigma (weights)^2$\n",
    "\n",
    "Note that the cost function is multipled by $C$, which is the inverse of the regularization parameter. This is a model hyperparameter, which can also be tuned to improve model performance."
   ]
  },
  {
   "cell_type": "markdown",
   "metadata": {
    "nbpresent": {
     "id": "0e12e9de-5433-435b-b236-f95a8252a52e"
    }
   },
   "source": [
    "### <a name=\"part4.3\">Hyperparameter tuning: It's still about optimization</a>\n",
    "\n",
    "If we look at the LogisticRegression sklearn documentation details, we can see that there's a *lot* more variables which we haven't even tinkered with yet.\n",
    "\n",
    "    class sklearn.linear_model.LogisticRegression(penalty='l2', dual=False, tol=0.0001, C=1.0, fit_intercept=True, intercept_scaling=1, class_weight=None, random_state=None, solver='liblinear', max_iter=100, multi_class='ovr', verbose=0, warm_start=False, n_jobs=1)\n",
    "\n",
    "To take advantage of logistic regression's power, let's highlight the interesting hyperparameters in the sklearn logistic regression model:\n",
    "\n",
    "- **C : float, optional (default=1.0)**: Inverse of regularization strength; must be a positive float. Like in support vector machines, smaller values specify stronger regularization.\n",
    "- **multi_class : str, {‘ovr’, ‘multinomial’}**: Multiclass option can be either ‘ovr’ or ‘multinomial’. If the option chosen is ‘ovr’, then a binary problem is fit for each label. Else the loss minimised is the multinomial loss fit across the entire probability distribution. Works only for the ‘lbfgs’ solver.\n",
    "\n",
    "What *exactly* do we do with these hyperparameters (e.g., *C*)? Here's where the power of **hyperparameter tuning** comes in. After all, the logistic regression model isn't a black box, so even these variables need to be tuned to optimize model performance."
   ]
  },
  {
   "cell_type": "code",
   "execution_count": 50,
   "metadata": {
    "collapsed": false
   },
   "outputs": [
    {
     "data": {
      "text/plain": [
       "array([  1.00000000e+00,   1.00000000e+01,   1.00000000e+02,\n",
       "         1.00000000e+03,   1.00000000e+04,   1.00000000e+05])"
      ]
     },
     "execution_count": 50,
     "metadata": {},
     "output_type": "execute_result"
    }
   ],
   "source": [
    "# generate list of Cs to go through\n",
    "Cs = np.logspace(0, 5, 6)\n",
    "Cs"
   ]
  },
  {
   "cell_type": "code",
   "execution_count": 51,
   "metadata": {
    "collapsed": false
   },
   "outputs": [
    {
     "data": {
      "text/plain": [
       "GridSearchCV(cv=ShuffleSplit(558576, n_iter=10, test_size=0.2, random_state=0),\n",
       "       error_score='raise',\n",
       "       estimator=LogisticRegression(C=1.0, class_weight='balanced', dual=False,\n",
       "          fit_intercept=True, intercept_scaling=1, max_iter=100,\n",
       "          multi_class='ovr', n_jobs=1, penalty='l2', random_state=1234,\n",
       "          solver='liblinear', tol=0.0001, verbose=0, warm_start=False),\n",
       "       fit_params={}, iid=True, n_jobs=1,\n",
       "       param_grid={'C': array([  1.00000e+00,   1.00000e+01,   1.00000e+02,   1.00000e+03,\n",
       "         1.00000e+04,   1.00000e+05])},\n",
       "       pre_dispatch='2*n_jobs', refit=True, scoring=None, verbose=0)"
      ]
     },
     "execution_count": 51,
     "metadata": {},
     "output_type": "execute_result"
    }
   ],
   "source": [
    "from sklearn.grid_search import GridSearchCV\n",
    "\n",
    "#we'll discuss cross-validation in more depth later\n",
    "cv = ShuffleSplit(X_train_scaled.shape[0], n_iter=10, test_size=0.2, random_state=0)\n",
    "hyper_logreg = GridSearchCV(estimator=logreg, cv=cv, param_grid=dict(C=Cs))\n",
    "hyper_logreg.fit(X_train_scaled, Y_train)"
   ]
  },
  {
   "cell_type": "code",
   "execution_count": 52,
   "metadata": {
    "collapsed": false
   },
   "outputs": [
    {
     "name": "stdout",
     "output_type": "stream",
     "text": [
      "Best C: 100.0\n",
      "Best score: 0.834273514984\n"
     ]
    }
   ],
   "source": [
    "print(\"Best C:\", hyper_logreg.best_estimator_.C)\n",
    "print(\"Best score:\", hyper_logreg.best_score_)"
   ]
  },
  {
   "cell_type": "code",
   "execution_count": 53,
   "metadata": {
    "collapsed": false
   },
   "outputs": [],
   "source": [
    "hyperLR = LogisticRegression(C = hyper_logreg.best_estimator_.C, random_state=1234, class_weight='balanced')"
   ]
  },
  {
   "cell_type": "code",
   "execution_count": 54,
   "metadata": {
    "collapsed": false
   },
   "outputs": [
    {
     "data": {
      "text/plain": [
       "LogisticRegression(C=100.0, class_weight='balanced', dual=False,\n",
       "          fit_intercept=True, intercept_scaling=1, max_iter=100,\n",
       "          multi_class='ovr', n_jobs=1, penalty='l2', random_state=1234,\n",
       "          solver='liblinear', tol=0.0001, verbose=0, warm_start=False)"
      ]
     },
     "execution_count": 54,
     "metadata": {},
     "output_type": "execute_result"
    }
   ],
   "source": [
    "hyperLR.fit(X_train_scaled, Y_train)"
   ]
  },
  {
   "cell_type": "code",
   "execution_count": 82,
   "metadata": {
    "collapsed": false
   },
   "outputs": [
    {
     "data": {
      "text/plain": [
       "array([[190951,  35748],\n",
       "       [  4054,   8638]])"
      ]
     },
     "execution_count": 82,
     "metadata": {},
     "output_type": "execute_result"
    }
   ],
   "source": [
    "confusion_matrix(Y_test, hyperLR.predict(X_test_scaled))"
   ]
  },
  {
   "cell_type": "code",
   "execution_count": 83,
   "metadata": {
    "collapsed": false
   },
   "outputs": [
    {
     "data": {
      "text/plain": [
       "0.83373643954868815"
      ]
     },
     "execution_count": 83,
     "metadata": {},
     "output_type": "execute_result"
    }
   ],
   "source": [
    "accuracy_score(Y_test, hyperLR.predict(X_test_scaled))"
   ]
  },
  {
   "cell_type": "markdown",
   "metadata": {},
   "source": [
    "Compared to the untuned model's accuracy of 0.8288, the model with hyperparameter tuning has better results."
   ]
  },
  {
   "cell_type": "code",
   "execution_count": 84,
   "metadata": {
    "collapsed": false
   },
   "outputs": [
    {
     "data": {
      "text/plain": [
       "0.76144846261689969"
      ]
     },
     "execution_count": 84,
     "metadata": {},
     "output_type": "execute_result"
    }
   ],
   "source": [
    "fpr, tpr, _ = roc_curve(Y_test, hyperLR.predict(X_test_scaled))\n",
    "auc(fpr, tpr)"
   ]
  },
  {
   "cell_type": "markdown",
   "metadata": {},
   "source": [
    "Tuned model's AUC is also higher compared to the previous model's AUC of 0.75445."
   ]
  },
  {
   "cell_type": "markdown",
   "metadata": {},
   "source": [
    "# <a name=\"part5\">2. Model Evaluation</a>\n",
    "\n",
    "Let's take a step back. You might've noticed \"CV\" appearing multiple times in the code, but we haven't fully explained what this is. Let's clarify how different the training, validation, and test datasets are from each other.\n",
    "\n",
    "### <a name=\"part5.1\"> Validation VS Test Data</a>\n",
    "Why do we even separate the training and test sets? This is to simulate having \"new, unseen data\" to test the model's generalizability.\n",
    "\n",
    "So why have validation sets? In a similar manner, we're trying to prevent the model from being biased towards its parameters by holding out \"unseen data\". In a nutshell:\n",
    "- training data is used to train the model's parameters (e.g., weights for LR)\n",
    "- validation data is used to train the model's hyperparameters (e.g., regularization parameter C for LR)\n",
    "- test data is used to test the model's generalizable performance\n",
    "\n",
    "<img src=\"images\\evaluating-machine-learning-models-a-beginners-guide-20-638.jpg\">"
   ]
  },
  {
   "cell_type": "markdown",
   "metadata": {},
   "source": [
    "### <a name=\"part5.2\">K-fold cross-validation: making the most out of your data</a>\n",
    "\n",
    "The problem with cutting your dataset into training, validation, and test sets (usually 60%-20%-20%) is that it significantly reduces the data points your model could train on -- which is a big deal if you don't have much data to start with.\n",
    "\n",
    "Here's where $k$-fold cross validation comes in. Here, the training dataset is randomly partitioned into $k$ equal sized subsamples. Of the $k$ subsamples, a single subsample is retained as the validation data for testing the model, and the remaining $k − 1$ subsamples are used as training data. The cross-validation process is then repeated $k$ times (the folds), with each of the $k$ subsamples used exactly once as the validation data.\n",
    "\n",
    "<img src=\"images/kfold.jpg\" height=\"400\" width=\"400\">\n",
    "\n",
    "The $k$ results from the folds can then be averaged to produce a single estimation.\n",
    "\n",
    "**Advantages**\n",
    "- all observations are used for both training and validation\n",
    "- each observation is used for validation exactly once\n",
    "- used to get more robust, accurate scores for the model\n",
    "\n",
    "Let's get the cross-validation score using $k=10$ for the tuned logistic regression model `hyperLR` which we created earlier."
   ]
  },
  {
   "cell_type": "code",
   "execution_count": 58,
   "metadata": {
    "collapsed": false
   },
   "outputs": [
    {
     "data": {
      "text/plain": [
       "array([ 0.83442238,  0.83438658,  0.83608729,  0.83187425,  0.83520418,\n",
       "        0.83115814,  0.83285891,  0.83327067,  0.83398679,  0.83448807])"
      ]
     },
     "execution_count": 58,
     "metadata": {},
     "output_type": "execute_result"
    }
   ],
   "source": [
    "scores = cross_validation.cross_val_score(hyperLR, X_train_scaled, Y_train, cv=10)\n",
    "scores"
   ]
  },
  {
   "cell_type": "markdown",
   "metadata": {},
   "source": [
    "As you can see, the scores vary based on what part of the training set the model \"sees\". Let's compute the average accuracy from the 10 folds."
   ]
  },
  {
   "cell_type": "code",
   "execution_count": 60,
   "metadata": {
    "collapsed": false
   },
   "outputs": [
    {
     "name": "stdout",
     "output_type": "stream",
     "text": [
      "Average accuracy: 0.83377 (+/- 0.00285)\n"
     ]
    }
   ],
   "source": [
    "print(\"Average accuracy: %0.5f (+/- %0.5f)\" % (scores.mean(), scores.std() * 2))"
   ]
  },
  {
   "cell_type": "markdown",
   "metadata": {},
   "source": [
    "Compared to the previously-stated accuracy of 0.83373 for `hyperLR`, this seems to be more robust since it cycles through the entire training dataset."
   ]
  },
  {
   "cell_type": "markdown",
   "metadata": {},
   "source": [
    "# <a name=\"part6\">3. Model Selection</a>"
   ]
  },
  {
   "cell_type": "markdown",
   "metadata": {},
   "source": [
    "### <a name=\"part6.1\"> Model performance metrics</a>\n",
    "\n",
    "We've actually introduced two performance metrics so far -- accuracy and AUC. Let's explain these and the other well-known metrics.\n",
    "\n",
    "- **Accuracy.** How many did I correctly label? $= \\dfrac{tp + tn}{all}$\n",
    "\n",
    "- **Precision.** How many of the predicted positive labels are actually correct? $= \\dfrac{tp}{tp+fp}$\n",
    "\n",
    "- **Recall/Sensitivity / True Positive Rate.** How many of the true positive labels are actually correct?  $= \\dfrac{tp}{tp+fn}$\n",
    "\n",
    "- **F1 Score** Single number which sums up precision and recall $ = \\dfrac{2pr}{p+r}$\n",
    "\n",
    "- **Area Under the Curve (AUC)** Literally is the area under the ROC curve\\*. Intuitively, a higher AUC means that a model performs better than another even as the threshold for classification varies.\n",
    "\n",
    "\\*ROC curve: Shows a graphical illustration of classifier model performance (recall and true positive rate) over varying thresholds for classification _(Note: usually, if probability $\\geq$ 0.5, we classify it as 1 and 0 otherwise.)_\n",
    "\n",
    "\n",
    "Picking the most appropriate metric is one of the most overlooked but crucial parts of the data science process. It requires a deep understanding of the data problem, and what metrics are needed to address the client's needs.\n",
    "\n",
    "Let's go through the `sklearn` code to output these metrics."
   ]
  },
  {
   "cell_type": "code",
   "execution_count": 75,
   "metadata": {
    "collapsed": false
   },
   "outputs": [
    {
     "name": "stdout",
     "output_type": "stream",
     "text": [
      "Accuracy: 0.833736439549\n"
     ]
    }
   ],
   "source": [
    "from sklearn.metrics import precision_recall_fscore_support\n",
    "acc= accuracy_score(Y_test, hyper_logreg.predict(X_test_scaled))\n",
    "print(\"Accuracy:\", acc)"
   ]
  },
  {
   "cell_type": "code",
   "execution_count": 77,
   "metadata": {
    "collapsed": false
   },
   "outputs": [],
   "source": [
    "precision_recall_fscore_support(Y_test, hyper_logreg.predict(X_test_scaled), average=\"binary\")\n",
    "prfs = [i for i in precision_recall_fscore_support(Y_test, hyper_logreg.predict(X_test_scaled), average=\"binary\")]"
   ]
  },
  {
   "cell_type": "code",
   "execution_count": 78,
   "metadata": {
    "collapsed": false
   },
   "outputs": [
    {
     "data": {
      "text/html": [
       "<div>\n",
       "<table border=\"1\" class=\"dataframe\">\n",
       "  <thead>\n",
       "    <tr style=\"text-align: right;\">\n",
       "      <th></th>\n",
       "      <th>0</th>\n",
       "    </tr>\n",
       "  </thead>\n",
       "  <tbody>\n",
       "    <tr>\n",
       "      <th>Accuracy</th>\n",
       "      <td>0.833736</td>\n",
       "    </tr>\n",
       "    <tr>\n",
       "      <th>Precision</th>\n",
       "      <td>0.194611</td>\n",
       "    </tr>\n",
       "    <tr>\n",
       "      <th>Recall</th>\n",
       "      <td>0.680586</td>\n",
       "    </tr>\n",
       "    <tr>\n",
       "      <th>F1 Score</th>\n",
       "      <td>0.302674</td>\n",
       "    </tr>\n",
       "    <tr>\n",
       "      <th>Support</th>\n",
       "      <td>NaN</td>\n",
       "    </tr>\n",
       "  </tbody>\n",
       "</table>\n",
       "</div>"
      ],
      "text/plain": [
       "                  0\n",
       "Accuracy   0.833736\n",
       "Precision  0.194611\n",
       "Recall     0.680586\n",
       "F1 Score   0.302674\n",
       "Support         NaN"
      ]
     },
     "execution_count": 78,
     "metadata": {},
     "output_type": "execute_result"
    }
   ],
   "source": [
    "pd.DataFrame([acc]+prfs, index=[\"Accuracy\", \"Precision\", \"Recall\", \"F1 Score\", \"Support\"])"
   ]
  },
  {
   "cell_type": "code",
   "execution_count": 81,
   "metadata": {
    "collapsed": false
   },
   "outputs": [
    {
     "data": {
      "image/png": "[encoded data removed]",
      "text/plain": [
       "<matplotlib.figure.Figure at 0x12b53d0b8>"
      ]
     },
     "metadata": {},
     "output_type": "display_data"
    }
   ],
   "source": [
    "fpr, tpr, _ = roc_curve(Y_test, hyperLR.predict(X_test_scaled))\n",
    "roc_auc = auc(fpr, tpr)\n",
    "\n",
    "plt.title('Receiver Operating Characteristic')\n",
    "plt.plot(fpr,tpr , 'b', label='AUC = %0.5f'% roc_auc)\n",
    "plt.legend(loc='lower right')\n",
    "plt.plot([0,1],[0,1],'r--')\n",
    "plt.xlim([-0.1,1.2])\n",
    "plt.ylim([-0.1,1.2])\n",
    "plt.ylabel('True Positive Rate')\n",
    "plt.xlabel('False Positive Rate')\n",
    "plt.show()"
   ]
  },
  {
   "cell_type": "markdown",
   "metadata": {},
   "source": [
    "Again, we shouldn't be surprised that we have low performance metrics for our model. Remember that our model is suffering from high bias, and needs more features to predict better. Feature engineering is the next logical step."
   ]
  },
  {
   "cell_type": "markdown",
   "metadata": {},
   "source": [
    "### <a name=\"part6.2\">Going deeper into the data problem: Predictors of loan rejection</a>\n",
    "\n",
    "Before we end, let's try to understand the data problem more by looking at the tuned model's features and weights."
   ]
  },
  {
   "cell_type": "code",
   "execution_count": 85,
   "metadata": {
    "collapsed": false
   },
   "outputs": [
    {
     "data": {
      "text/plain": [
       "array([[ -3.40315548e-01,  -6.78961734e+02,   1.01094655e+00]])"
      ]
     },
     "execution_count": 85,
     "metadata": {},
     "output_type": "execute_result"
    }
   ],
   "source": [
    "hyperLR.coef_"
   ]
  },
  {
   "cell_type": "code",
   "execution_count": 90,
   "metadata": {
    "collapsed": false
   },
   "outputs": [
    {
     "name": "stderr",
     "output_type": "stream",
     "text": [
      "/Users/regonglao/anaconda/lib/python3.5/site-packages/ipykernel/__main__.py:2: FutureWarning: sort(columns=....) is deprecated, use sort_values(by=.....)\n",
      "  from ipykernel import kernelapp as app\n"
     ]
    },
    {
     "data": {
      "text/html": [
       "<div>\n",
       "<table border=\"1\" class=\"dataframe\">\n",
       "  <thead>\n",
       "    <tr style=\"text-align: right;\">\n",
       "      <th></th>\n",
       "      <th>0</th>\n",
       "    </tr>\n",
       "  </thead>\n",
       "  <tbody>\n",
       "    <tr>\n",
       "      <th>debt_to_income_ratio</th>\n",
       "      <td>-678.961734</td>\n",
       "    </tr>\n",
       "    <tr>\n",
       "      <th>loan_amnt</th>\n",
       "      <td>-0.340316</td>\n",
       "    </tr>\n",
       "    <tr>\n",
       "      <th>emp_length</th>\n",
       "      <td>1.010947</td>\n",
       "    </tr>\n",
       "  </tbody>\n",
       "</table>\n",
       "</div>"
      ],
      "text/plain": [
       "                               0\n",
       "debt_to_income_ratio -678.961734\n",
       "loan_amnt              -0.340316\n",
       "emp_length              1.010947"
      ]
     },
     "execution_count": 90,
     "metadata": {},
     "output_type": "execute_result"
    }
   ],
   "source": [
    "# aligning weights with the respective features, sorted from highest to lowest\n",
    "hyper_coef = pd.DataFrame(hyperLR.coef_, columns=X_train_scaled.columns).T.sort(columns=0, ascending=True)\n",
    "hyper_coef"
   ]
  },
  {
   "cell_type": "code",
   "execution_count": 91,
   "metadata": {
    "collapsed": false
   },
   "outputs": [
    {
     "data": {
      "text/plain": [
       "<matplotlib.text.Text at 0x132190e10>"
      ]
     },
     "execution_count": 91,
     "metadata": {},
     "output_type": "execute_result"
    },
    {
     "data": {
      "image/png": "[encoded data removed]",
      "text/plain": [
       "<matplotlib.figure.Figure at 0x1321805c0>"
      ]
     },
     "metadata": {},
     "output_type": "display_data"
    }
   ],
   "source": [
    "hyper_coef.plot(kind='bar', title='Important Features: Logistic Regression')\n",
    "plt.ylabel('Feature Coefficient')"
   ]
  },
  {
   "cell_type": "markdown",
   "metadata": {},
   "source": [
    "Not surprisingly, the `debt_to_income_ratio` had the highest **negative** coefficient. If look at the visualizations made earlier, we can see that the key feature among the 3 with which we can distinguish approved VS rejected loan is debt-to-income ratio. Its kde plot is also the most distinct among the 3 key features."
   ]
  },
  {
   "cell_type": "code",
   "execution_count": 88,
   "metadata": {
    "collapsed": false
   },
   "outputs": [
    {
     "name": "stderr",
     "output_type": "stream",
     "text": [
      "/Users/regonglao/anaconda/lib/python3.5/site-packages/statsmodels/nonparametric/kdetools.py:20: VisibleDeprecationWarning: using a non-integer number instead of an integer will result in an error in the future\n",
      "  y = X[:m/2+1] + np.r_[0,X[m/2+1:],0]*1j\n"
     ]
    },
    {
     "data": {
      "text/plain": [
       "<matplotlib.text.Text at 0x11d7134a8>"
      ]
     },
     "execution_count": 88,
     "metadata": {},
     "output_type": "execute_result"
    },
    {
     "data": {
      "image/png": "[encoded data removed]",
      "text/plain": [
       "<matplotlib.figure.Figure at 0x12b05f0f0>"
      ]
     },
     "metadata": {},
     "output_type": "display_data"
    }
   ],
   "source": [
    "for key, grp in df2.groupby(\"loan_approval\"):\n",
    "    sns.distplot(np.log(grp[\"debt_to_income_ratio\"]), hist=False, kde_kws={\"shade\": True}, label=str(key))\n",
    "plt.legend([\"Rejected\", \"Approved\"], loc=\"best\")\n",
    "plt.title('Kernel Density Estimate of Debt-to-Income Ratio', fontsize=15, fontweight='bold')"
   ]
  },
  {
   "cell_type": "code",
   "execution_count": 89,
   "metadata": {
    "collapsed": false
   },
   "outputs": [
    {
     "data": {
      "text/plain": [
       "<seaborn.axisgrid.PairGrid at 0x12b067320>"
      ]
     },
     "execution_count": 89,
     "metadata": {},
     "output_type": "execute_result"
    },
    {
     "data": {
      "image/png": "[encoded data removed]",
      "text/plain": [
       "<matplotlib.figure.Figure at 0x12b0674e0>"
      ]
     },
     "metadata": {},
     "output_type": "display_data"
    }
   ],
   "source": [
    "sns.pairplot(df2, hue=\"loan_approval\")"
   ]
  },
  {
   "cell_type": "markdown",
   "metadata": {
    "nbpresent": {
     "id": "327e92ff-5ba6-4494-b88e-0d313354f25c"
    }
   },
   "source": [
    "# <a name=\"references\">References</a>\n",
    "Sebastian Raschka:\n",
    "- https://github.com/rasbt/python-machine-learning-book/blob/master/code/ch03/ch03.ipynb\n",
    "- http://nbviewer.jupyter.org/github/rasbt/python-machine-learning-book/blob/master/code/bonus/logistic_regression.ipynb\n",
    "- http://sebastianraschka.com/Articles/2014_about_feature_scaling.html\n",
    "\n",
    "Introduction to Statistical Learning by Hastie & Tibshirani:\n",
    "- http://nbviewer.jupyter.org/github/JWarmenhoven/ISL-python/blob/master/Notebooks/Chapter%204.ipynb\n",
    "\n",
    "Learn Data Science's blog:\n",
    "- http://nbviewer.jupyter.org/github/nborwankar/LearnDataScience/blob/master/notebooks/B1.%20Logistic%20Regression%20-%20Overview.ipynb\n",
    "\n",
    "John Wittenauer's Python exercises:\n",
    "- http://www.johnwittenauer.net/machine-learning-exercises-in-python-part-3/\n",
    "\n",
    "Other sources:\n",
    "- http://stats.stackexchange.com/questions/29781/when-conducting-multiple-regression-when-should-you-center-your-predictor-varia"
   ]
  },
  {
   "cell_type": "code",
   "execution_count": 92,
   "metadata": {
    "collapsed": false
   },
   "outputs": [
    {
     "data": {
      "text/html": [
       "<style>\n",
       "div.warn {    \n",
       "    background-color: #ef4631;\n",
       "    border-left: 10px solid #3c3a3b;\n",
       "    padding: 0.5em;\n",
       "\tcolor: #ffffff;\n",
       "    }\n",
       " </style>"
      ],
      "text/plain": [
       "<IPython.core.display.HTML object>"
      ]
     },
     "execution_count": 92,
     "metadata": {},
     "output_type": "execute_result"
    }
   ],
   "source": [
    "from IPython.core.display import HTML\n",
    "def css_styling():\n",
    "    styles = open(\"./styles/custom.css\", \"r\").read()\n",
    "    return HTML(styles)\n",
    "css_styling()"
   ]
  }
 ],
 "metadata": {
  "anaconda-cloud": {},
  "kernelspec": {
   "display_name": "Python [Root]",
   "language": "python",
   "name": "Python [Root]"
  },
  "language_info": {
   "codemirror_mode": {
    "name": "ipython",
    "version": 3
   },
   "file_extension": ".py",
   "mimetype": "text/x-python",
   "name": "python",
   "nbconvert_exporter": "python",
   "pygments_lexer": "ipython3",
   "version": "3.5.2"
  },
  "nbpresent": {
   "slides": {
    "004009ad-c941-4cac-81a6-c004f5fc52c9": {
     "id": "004009ad-c941-4cac-81a6-c004f5fc52c9",
     "prev": null,
     "regions": {
      "e7439248-a497-45bb-8065-70b18f6e8907": {
       "attrs": {
        "height": 0.8,
        "width": 0.8,
        "x": 0.1,
        "y": 0.1
       },
       "content": {
        "cell": "f586a592-f414-4fa0-9fc6-ef0453c7fba5",
        "part": "whole"
       },
       "id": "e7439248-a497-45bb-8065-70b18f6e8907"
      }
     }
    },
    "01c5cd24-8c9d-4688-81d2-0cd7a70e1789": {
     "id": "01c5cd24-8c9d-4688-81d2-0cd7a70e1789",
     "prev": "3361abdd-69e6-4208-bf1b-0cbba7d0bf3b",
     "regions": {
      "c6efc021-9fa0-4cdb-9cf0-bf565aea91d3": {
       "attrs": {
        "height": 0.8,
        "width": 0.8,
        "x": 0.1,
        "y": 0.1
       },
       "content": {
        "cell": "f1958bdb-9c5b-40a2-8c22-d905d6374a77",
        "part": "whole"
       },
       "id": "c6efc021-9fa0-4cdb-9cf0-bf565aea91d3"
      }
     }
    },
    "0f380bb1-2d2e-490a-a00c-84c9ff694753": {
     "id": "0f380bb1-2d2e-490a-a00c-84c9ff694753",
     "prev": "e3660d49-bb1c-4da0-9e49-0438be31a8d6",
     "regions": {
      "d19d4055-8ecb-4471-b000-92472945364f": {
       "attrs": {
        "height": 0.8,
        "width": 0.8,
        "x": 0.1,
        "y": 0.1
       },
       "content": {
        "cell": "a4912b5a-ab2a-492c-9246-cbe8a1c0eb2e",
        "part": "whole"
       },
       "id": "d19d4055-8ecb-4471-b000-92472945364f"
      }
     }
    },
    "120d05d1-62ad-43a1-b471-4091190b4b3c": {
     "id": "120d05d1-62ad-43a1-b471-4091190b4b3c",
     "prev": "7d6133c2-93af-4f91-986f-c05bc830489b",
     "regions": {
      "82d7e962-da57-4d5a-88d0-2429de109948": {
       "attrs": {
        "height": 0.8,
        "width": 0.8,
        "x": 0.1,
        "y": 0.1
       },
       "content": {
        "cell": "fbb914dd-de90-4f2a-9e56-2a75e7d04ef9",
        "part": "whole"
       },
       "id": "82d7e962-da57-4d5a-88d0-2429de109948"
      }
     }
    },
    "1834b407-d9a7-4d41-ac9f-81bb3d9a919c": {
     "id": "1834b407-d9a7-4d41-ac9f-81bb3d9a919c",
     "prev": "caf4da5c-d8a8-46a6-813b-8c52c9260fb2",
     "regions": {
      "64d2d0c5-a85b-4df6-b5cf-7eeace85d938": {
       "attrs": {
        "height": 0.8,
        "width": 0.8,
        "x": 0.1,
        "y": 0.1
       },
       "content": {
        "cell": "8ed12b97-1ad0-4588-aa07-47aa87496b39",
        "part": "whole"
       },
       "id": "64d2d0c5-a85b-4df6-b5cf-7eeace85d938"
      }
     }
    },
    "187256de-5113-48d4-8703-2b62b0878232": {
     "id": "187256de-5113-48d4-8703-2b62b0878232",
     "prev": "f80add19-5538-41bf-99d1-91a29adf3b87",
     "regions": {
      "2ee60b0f-c3a5-4911-a800-8625c2c98296": {
       "attrs": {
        "height": 0.8,
        "width": 0.8,
        "x": 0.1,
        "y": 0.1
       },
       "content": {
        "cell": "4723be6b-b311-4d60-83c7-e8070eba37a3",
        "part": "whole"
       },
       "id": "2ee60b0f-c3a5-4911-a800-8625c2c98296"
      }
     }
    },
    "1b4c5b95-31b6-475f-ab06-a603f0028d78": {
     "id": "1b4c5b95-31b6-475f-ab06-a603f0028d78",
     "prev": "ccf782cb-79e2-4308-9dd2-126c95e7e051",
     "regions": {
      "a4a11613-5085-4db9-9a50-c098f92555d4": {
       "attrs": {
        "height": 0.8,
        "width": 0.8,
        "x": 0.1,
        "y": 0.1
       },
       "content": {
        "cell": "d4f64460-2ebc-434c-a4b6-6d2f5a408f4a",
        "part": "whole"
       },
       "id": "a4a11613-5085-4db9-9a50-c098f92555d4"
      }
     }
    },
    "22764a94-26e0-4b49-809c-fe2225aff3ac": {
     "id": "22764a94-26e0-4b49-809c-fe2225aff3ac",
     "prev": "99db228c-f169-441f-b2f2-4ab83023142b",
     "regions": {
      "1447cdb9-7581-4c5e-b3f5-232b71ceeec6": {
       "attrs": {
        "height": 0.8,
        "width": 0.8,
        "x": 0.1,
        "y": 0.1
       },
       "content": {
        "cell": "dced0c42-0d57-4923-bc76-4a8ce81c3617",
        "part": "whole"
       },
       "id": "1447cdb9-7581-4c5e-b3f5-232b71ceeec6"
      }
     }
    },
    "23e20b83-c16e-4fe7-9143-e63173a9c4ef": {
     "id": "23e20b83-c16e-4fe7-9143-e63173a9c4ef",
     "prev": "bec69f53-aed1-443e-b2bb-a87227409114",
     "regions": {
      "e1e7c679-efd2-4db3-bfeb-2c676a31559f": {
       "attrs": {
        "height": 0.8,
        "width": 0.8,
        "x": 0.1,
        "y": 0.1
       },
       "content": {
        "cell": "e0ff68f5-efee-4d31-969c-d1b548b94427",
        "part": "whole"
       },
       "id": "e1e7c679-efd2-4db3-bfeb-2c676a31559f"
      }
     }
    },
    "24e50533-4273-4a38-bed8-165ea0d20381": {
     "id": "24e50533-4273-4a38-bed8-165ea0d20381",
     "prev": "259a59bb-f90f-4c27-b5f7-0a86a209ad7d",
     "regions": {
      "ca757bf0-d7a7-4f10-8a06-5b863933c120": {
       "attrs": {
        "height": 0.8,
        "width": 0.8,
        "x": 0.1,
        "y": 0.1
       },
       "content": {
        "cell": "b33b9a08-3bd4-4721-88be-c1eb623bb0de",
        "part": "whole"
       },
       "id": "ca757bf0-d7a7-4f10-8a06-5b863933c120"
      }
     }
    },
    "259a59bb-f90f-4c27-b5f7-0a86a209ad7d": {
     "id": "259a59bb-f90f-4c27-b5f7-0a86a209ad7d",
     "prev": "b79f55ee-4693-490f-a0de-7bce37b9aa4a",
     "regions": {
      "323ab260-775d-407e-b443-eb8e60308b0c": {
       "attrs": {
        "height": 0.8,
        "width": 0.8,
        "x": 0.1,
        "y": 0.1
       },
       "content": {
        "cell": "0b5c7ecb-5724-491b-aaa9-ed788241ad19",
        "part": "whole"
       },
       "id": "323ab260-775d-407e-b443-eb8e60308b0c"
      }
     }
    },
    "277d74dd-6bce-4ffb-b828-68d52716934e": {
     "id": "277d74dd-6bce-4ffb-b828-68d52716934e",
     "prev": "24e50533-4273-4a38-bed8-165ea0d20381",
     "regions": {
      "accfcd0f-0873-4120-8880-56d4ce9121ee": {
       "attrs": {
        "height": 0.8,
        "width": 0.8,
        "x": 0.1,
        "y": 0.1
       },
       "content": {
        "cell": "8d1ee29d-b47f-4268-8e12-cc7aab108532",
        "part": "whole"
       },
       "id": "accfcd0f-0873-4120-8880-56d4ce9121ee"
      }
     }
    },
    "287e56f5-a6ec-4e24-83df-50a38cef7126": {
     "id": "287e56f5-a6ec-4e24-83df-50a38cef7126",
     "prev": "7a7e4db9-73d6-4ee4-a664-ed0790b3aeff",
     "regions": {
      "1008b09a-4f50-4d98-a79e-2dc6df3531af": {
       "attrs": {
        "height": 0.8,
        "width": 0.8,
        "x": 0.1,
        "y": 0.1
       },
       "content": {
        "cell": "7c3e9778-484b-44fc-8139-1fc36779ae4b",
        "part": "whole"
       },
       "id": "1008b09a-4f50-4d98-a79e-2dc6df3531af"
      }
     }
    },
    "307540d7-ba75-4d67-becc-a47b53ae2e39": {
     "id": "307540d7-ba75-4d67-becc-a47b53ae2e39",
     "prev": "fbc58f42-a092-44b5-9030-72589d81d584",
     "regions": {
      "bf96e71e-8cc4-4c96-86de-5a80dffb0b4c": {
       "attrs": {
        "height": 0.8,
        "width": 0.8,
        "x": 0.1,
        "y": 0.1
       },
       "content": {
        "cell": "3063c70b-1f0b-4a41-8a73-9c5ff330d7b0",
        "part": "whole"
       },
       "id": "bf96e71e-8cc4-4c96-86de-5a80dffb0b4c"
      }
     }
    },
    "3361abdd-69e6-4208-bf1b-0cbba7d0bf3b": {
     "id": "3361abdd-69e6-4208-bf1b-0cbba7d0bf3b",
     "prev": "8056d26d-8dd8-46f3-a171-13ed18dbf7d2",
     "regions": {
      "2f814a8a-0d50-4eaa-bee1-8fbb5d3fc77a": {
       "attrs": {
        "height": 0.8,
        "width": 0.8,
        "x": 0.1,
        "y": 0.1
       },
       "content": {
        "cell": "089a5911-d7e8-4cf6-8cce-e879d52667a3",
        "part": "whole"
       },
       "id": "2f814a8a-0d50-4eaa-bee1-8fbb5d3fc77a"
      }
     }
    },
    "3bfdeae6-73c0-48ea-b459-2712c4482a2b": {
     "id": "3bfdeae6-73c0-48ea-b459-2712c4482a2b",
     "prev": "23e20b83-c16e-4fe7-9143-e63173a9c4ef",
     "regions": {
      "275ced7c-3932-4cde-b86e-be660af17026": {
       "attrs": {
        "height": 0.8,
        "width": 0.8,
        "x": 0.1,
        "y": 0.1
       },
       "content": {
        "cell": "c0d0932e-29fc-4cff-9646-6bcbdb6483f7",
        "part": "whole"
       },
       "id": "275ced7c-3932-4cde-b86e-be660af17026"
      }
     }
    },
    "42e85c8d-d0e9-4a1b-ac04-51fbb06bb9d3": {
     "id": "42e85c8d-d0e9-4a1b-ac04-51fbb06bb9d3",
     "prev": "1834b407-d9a7-4d41-ac9f-81bb3d9a919c",
     "regions": {
      "b40f3d38-ad96-43ee-88b4-9326b2a16eb1": {
       "attrs": {
        "height": 0.8,
        "width": 0.8,
        "x": 0.1,
        "y": 0.1
       },
       "content": {
        "cell": "d50c1a63-f786-449e-8e5d-200bfa37bef5",
        "part": "whole"
       },
       "id": "b40f3d38-ad96-43ee-88b4-9326b2a16eb1"
      }
     }
    },
    "43b1fed8-356f-4dce-b689-b58ff497f6b7": {
     "id": "43b1fed8-356f-4dce-b689-b58ff497f6b7",
     "prev": "b4f72071-019f-4607-a667-b5a25bc6d327",
     "regions": {
      "2360673d-27f9-46dc-8419-a220cc5f4a35": {
       "attrs": {
        "height": 0.8,
        "width": 0.8,
        "x": 0.1,
        "y": 0.1
       },
       "content": {
        "cell": "d2647b51-db0a-4cc3-a205-0e60f7b430fa",
        "part": "whole"
       },
       "id": "2360673d-27f9-46dc-8419-a220cc5f4a35"
      }
     }
    },
    "43e798d4-67e5-476c-90d9-e4b9276cd7ea": {
     "id": "43e798d4-67e5-476c-90d9-e4b9276cd7ea",
     "prev": "c82e7c4f-3258-456b-a280-2e2024deae23",
     "regions": {
      "10c2e9d1-b62d-4c0e-81d3-98692f645902": {
       "attrs": {
        "height": 0.8,
        "width": 0.8,
        "x": 0.1,
        "y": 0.1
       },
       "content": {
        "cell": "55f8e9fd-cae0-41e0-8901-b47687221ed8",
        "part": "whole"
       },
       "id": "10c2e9d1-b62d-4c0e-81d3-98692f645902"
      }
     }
    },
    "446b4e68-a54f-4dbd-ad5f-a9bb10ee899c": {
     "id": "446b4e68-a54f-4dbd-ad5f-a9bb10ee899c",
     "prev": "cf9bff49-6eb7-4e26-998b-a26cb07413c0",
     "regions": {
      "2c4575fc-8395-44c2-a324-4ee70efd09ba": {
       "attrs": {
        "height": 0.8,
        "width": 0.8,
        "x": 0.1,
        "y": 0.1
       },
       "content": {
        "cell": "a99444ef-72c0-4853-adc8-0a781b04f1b9",
        "part": "whole"
       },
       "id": "2c4575fc-8395-44c2-a324-4ee70efd09ba"
      }
     }
    },
    "4c1e0130-30fa-4c43-9603-8f6fc33d76c1": {
     "id": "4c1e0130-30fa-4c43-9603-8f6fc33d76c1",
     "prev": "287e56f5-a6ec-4e24-83df-50a38cef7126",
     "regions": {
      "dd0cf136-e450-4011-a93e-57ded98eeb3f": {
       "attrs": {
        "height": 0.8,
        "width": 0.8,
        "x": 0.1,
        "y": 0.1
       },
       "content": {
        "cell": "0e12e9de-5433-435b-b236-f95a8252a52e",
        "part": "whole"
       },
       "id": "dd0cf136-e450-4011-a93e-57ded98eeb3f"
      }
     }
    },
    "5003db83-61ae-4568-b9d3-258cd6ab4f07": {
     "id": "5003db83-61ae-4568-b9d3-258cd6ab4f07",
     "prev": "b8525aba-7113-4f1c-891e-05122dc77ca3",
     "regions": {
      "42b6d07e-41ca-4ac4-9141-9e1486b9793c": {
       "attrs": {
        "height": 0.8,
        "width": 0.8,
        "x": 0.1,
        "y": 0.1
       },
       "content": {
        "cell": "abae64a5-0de0-4280-947c-ba1211859531",
        "part": "whole"
       },
       "id": "42b6d07e-41ca-4ac4-9141-9e1486b9793c"
      }
     }
    },
    "56936cdf-38c5-47a7-8de4-ec126531e22e": {
     "id": "56936cdf-38c5-47a7-8de4-ec126531e22e",
     "prev": "78c24a43-a1ad-4e01-995f-20f268dff303",
     "regions": {
      "488b050c-e367-4a2b-9b02-23ac4a07c78e": {
       "attrs": {
        "height": 0.8,
        "width": 0.8,
        "x": 0.1,
        "y": 0.1
       },
       "content": {
        "cell": "bd06bd2c-a491-41be-9a57-4a8d13e88673",
        "part": "whole"
       },
       "id": "488b050c-e367-4a2b-9b02-23ac4a07c78e"
      }
     }
    },
    "59fe39d5-2d9b-4951-b77a-fb4fcff9dce4": {
     "id": "59fe39d5-2d9b-4951-b77a-fb4fcff9dce4",
     "prev": "4c1e0130-30fa-4c43-9603-8f6fc33d76c1",
     "regions": {
      "6632911e-3e8b-4720-83f5-d1a9f6c727b7": {
       "attrs": {
        "height": 0.8,
        "width": 0.8,
        "x": 0.1,
        "y": 0.1
       },
       "content": {
        "cell": "715468a0-2dd0-4b82-8191-796110072b06",
        "part": "whole"
       },
       "id": "6632911e-3e8b-4720-83f5-d1a9f6c727b7"
      }
     }
    },
    "5a41eb30-26f6-44c7-b069-b1e16af62cc9": {
     "id": "5a41eb30-26f6-44c7-b069-b1e16af62cc9",
     "prev": "120d05d1-62ad-43a1-b471-4091190b4b3c",
     "regions": {
      "9569471c-6bee-40f7-8354-39d0a1e7b799": {
       "attrs": {
        "height": 0.8,
        "width": 0.8,
        "x": 0.1,
        "y": 0.1
       },
       "content": {
        "cell": "aaadb571-41a6-4927-85d6-a27762d76fe1",
        "part": "whole"
       },
       "id": "9569471c-6bee-40f7-8354-39d0a1e7b799"
      }
     }
    },
    "5bced1ce-e540-4e4a-aa0c-12a42dcf91bf": {
     "id": "5bced1ce-e540-4e4a-aa0c-12a42dcf91bf",
     "prev": "004009ad-c941-4cac-81a6-c004f5fc52c9",
     "regions": {
      "b2ea2a64-aa5f-40bc-9472-4741a707f325": {
       "attrs": {
        "height": 0.8,
        "width": 0.8,
        "x": 0.1,
        "y": 0.1
       },
       "content": {
        "cell": "cf55168a-74b8-4c3a-8e31-b221ccaa7e73",
        "part": "whole"
       },
       "id": "b2ea2a64-aa5f-40bc-9472-4741a707f325"
      }
     }
    },
    "622530fd-b2b2-4a59-b7bd-586691d7ee8d": {
     "id": "622530fd-b2b2-4a59-b7bd-586691d7ee8d",
     "prev": "a91c1b84-c9a9-4eae-9e43-c3020ff9f068",
     "regions": {
      "4f3ef8b0-d5f9-44f9-92b2-713b76e249aa": {
       "attrs": {
        "height": 0.8,
        "width": 0.8,
        "x": 0.1,
        "y": 0.1
       },
       "content": {
        "cell": "cfe8d39e-2ea7-4dd0-a2de-29a610a5863e",
        "part": "whole"
       },
       "id": "4f3ef8b0-d5f9-44f9-92b2-713b76e249aa"
      }
     }
    },
    "674db0bd-8457-42c0-9199-ac822796854c": {
     "id": "674db0bd-8457-42c0-9199-ac822796854c",
     "prev": "eb8676d4-9e1e-48c3-8bef-269dff7962ac",
     "regions": {
      "72f6e0e7-a9d8-4cdd-9337-04913d44faf6": {
       "attrs": {
        "height": 0.8,
        "width": 0.8,
        "x": 0.1,
        "y": 0.1
       },
       "content": {
        "cell": "186c5b7b-c30c-4f32-abf1-eac29772154e",
        "part": "whole"
       },
       "id": "72f6e0e7-a9d8-4cdd-9337-04913d44faf6"
      }
     }
    },
    "6782cca6-61fc-46df-baa8-92482936b5c6": {
     "id": "6782cca6-61fc-46df-baa8-92482936b5c6",
     "prev": "ca7b4d13-4fa9-4745-8246-790e41c3e9d9",
     "regions": {
      "4423f469-ab19-4468-9897-fcb5889f4dd0": {
       "attrs": {
        "height": 0.8,
        "width": 0.8,
        "x": 0.1,
        "y": 0.1
       },
       "content": {
        "cell": "f081e166-0458-4e5c-b519-2d5a20bef135",
        "part": "whole"
       },
       "id": "4423f469-ab19-4468-9897-fcb5889f4dd0"
      }
     }
    },
    "67afe184-48d2-434f-895d-037c2ecb5d1f": {
     "id": "67afe184-48d2-434f-895d-037c2ecb5d1f",
     "prev": "43e798d4-67e5-476c-90d9-e4b9276cd7ea",
     "regions": {
      "944d378e-368b-45ef-accd-32c3f4d8e63d": {
       "attrs": {
        "height": 0.8,
        "width": 0.8,
        "x": 0.1,
        "y": 0.1
       },
       "content": {
        "cell": "3a597bbe-2052-4a95-a922-31bcb82e27fa",
        "part": "whole"
       },
       "id": "944d378e-368b-45ef-accd-32c3f4d8e63d"
      }
     }
    },
    "73ea9b74-54da-41b5-a5b7-aa6442d20537": {
     "id": "73ea9b74-54da-41b5-a5b7-aa6442d20537",
     "prev": "0f380bb1-2d2e-490a-a00c-84c9ff694753",
     "regions": {
      "c3711089-d3d6-4bed-b65d-4a355eb29ddc": {
       "attrs": {
        "height": 0.8,
        "width": 0.8,
        "x": 0.1,
        "y": 0.1
       },
       "content": {
        "cell": "fb1c8946-a438-4b02-877c-468f8dc30e36",
        "part": "whole"
       },
       "id": "c3711089-d3d6-4bed-b65d-4a355eb29ddc"
      }
     }
    },
    "758857b5-45c8-4cbb-8c59-2c28f059441a": {
     "id": "758857b5-45c8-4cbb-8c59-2c28f059441a",
     "prev": "fca1aa7a-7a88-44ff-ad80-b9bc72c0e4de",
     "regions": {
      "b5b99a0c-cfc1-4b9c-bdd0-0d13e3f1d2d6": {
       "attrs": {
        "height": 0.8,
        "width": 0.8,
        "x": 0.1,
        "y": 0.1
       },
       "content": {
        "cell": "d25669d2-fc0e-4e72-8fa4-2229e2122ec3",
        "part": "whole"
       },
       "id": "b5b99a0c-cfc1-4b9c-bdd0-0d13e3f1d2d6"
      }
     }
    },
    "75971a30-1686-4e6b-96fe-6feb4171c21d": {
     "id": "75971a30-1686-4e6b-96fe-6feb4171c21d",
     "prev": "446b4e68-a54f-4dbd-ad5f-a9bb10ee899c",
     "regions": {
      "d01b1044-f2c9-477c-a9dc-2d369116498a": {
       "attrs": {
        "height": 0.8,
        "width": 0.8,
        "x": 0.1,
        "y": 0.1
       },
       "content": {
        "cell": "b9d6355c-7388-4628-b6a1-cabd33cf1219",
        "part": "whole"
       },
       "id": "d01b1044-f2c9-477c-a9dc-2d369116498a"
      }
     }
    },
    "78c24a43-a1ad-4e01-995f-20f268dff303": {
     "id": "78c24a43-a1ad-4e01-995f-20f268dff303",
     "prev": "5003db83-61ae-4568-b9d3-258cd6ab4f07",
     "regions": {
      "854b5bfa-b26c-4980-bba6-dae05dba0ca9": {
       "attrs": {
        "height": 0.8,
        "width": 0.8,
        "x": 0.1,
        "y": 0.1
       },
       "content": {
        "cell": "3f68ec40-53bf-4e42-be88-3bb38078961b",
        "part": "whole"
       },
       "id": "854b5bfa-b26c-4980-bba6-dae05dba0ca9"
      }
     }
    },
    "7a7e4db9-73d6-4ee4-a664-ed0790b3aeff": {
     "id": "7a7e4db9-73d6-4ee4-a664-ed0790b3aeff",
     "prev": "c34cef60-449d-421f-9e0e-25b0e3743b6b",
     "regions": {
      "652295a5-cd7f-41b0-815d-83fa464b4e05": {
       "attrs": {
        "height": 0.8,
        "width": 0.8,
        "x": 0.1,
        "y": 0.1
       },
       "content": {
        "cell": "81850e46-8194-4e81-b7a6-adb8ff64e4d9",
        "part": "whole"
       },
       "id": "652295a5-cd7f-41b0-815d-83fa464b4e05"
      }
     }
    },
    "7d6133c2-93af-4f91-986f-c05bc830489b": {
     "id": "7d6133c2-93af-4f91-986f-c05bc830489b",
     "prev": "01c5cd24-8c9d-4688-81d2-0cd7a70e1789",
     "regions": {
      "f530c368-0a88-44be-8b36-d6c03829445f": {
       "attrs": {
        "height": 0.8,
        "width": 0.8,
        "x": 0.1,
        "y": 0.1
       },
       "content": {
        "cell": "85018bd7-17e7-40de-9495-bdb54da07a99",
        "part": "whole"
       },
       "id": "f530c368-0a88-44be-8b36-d6c03829445f"
      }
     }
    },
    "7febaa6e-5111-45f4-bd57-f99268277dfb": {
     "id": "7febaa6e-5111-45f4-bd57-f99268277dfb",
     "prev": "f2217338-2d06-4373-9efa-b264de00dc8d",
     "regions": {
      "63a88d6b-ee20-4a3e-a27f-bb196673cbcc": {
       "attrs": {
        "height": 0.8,
        "width": 0.8,
        "x": 0.1,
        "y": 0.1
       },
       "content": {
        "cell": "10e51463-0ae3-4f8e-afce-7694c041588e",
        "part": "whole"
       },
       "id": "63a88d6b-ee20-4a3e-a27f-bb196673cbcc"
      }
     }
    },
    "8056d26d-8dd8-46f3-a171-13ed18dbf7d2": {
     "id": "8056d26d-8dd8-46f3-a171-13ed18dbf7d2",
     "prev": "82d93405-9a5d-4136-a400-163bea80b53c",
     "regions": {
      "4fcefeb5-36fe-4832-af49-e88f0996657f": {
       "attrs": {
        "height": 0.8,
        "width": 0.8,
        "x": 0.1,
        "y": 0.1
       },
       "content": {
        "cell": "7fb70816-290b-40b2-90a2-18abb7d53ffa",
        "part": "whole"
       },
       "id": "4fcefeb5-36fe-4832-af49-e88f0996657f"
      }
     }
    },
    "82d93405-9a5d-4136-a400-163bea80b53c": {
     "id": "82d93405-9a5d-4136-a400-163bea80b53c",
     "prev": "758857b5-45c8-4cbb-8c59-2c28f059441a",
     "regions": {
      "92ef133e-cc38-44d7-af66-08bc7c084f07": {
       "attrs": {
        "height": 0.8,
        "width": 0.8,
        "x": 0.1,
        "y": 0.1
       },
       "content": {
        "cell": "c6af6408-fc5e-4c90-8a59-f46fe15c4f1f",
        "part": "whole"
       },
       "id": "92ef133e-cc38-44d7-af66-08bc7c084f07"
      }
     }
    },
    "8a138275-7f12-48a7-a361-e8c81fc7833d": {
     "id": "8a138275-7f12-48a7-a361-e8c81fc7833d",
     "prev": "56936cdf-38c5-47a7-8de4-ec126531e22e",
     "regions": {
      "9311992e-8877-4d8e-9607-15426d31e120": {
       "attrs": {
        "height": 0.8,
        "width": 0.8,
        "x": 0.1,
        "y": 0.1
       },
       "content": {
        "cell": "c1823dc7-744c-4a2a-8440-07a857d2968f",
        "part": "whole"
       },
       "id": "9311992e-8877-4d8e-9607-15426d31e120"
      }
     }
    },
    "8e6f8d05-be0e-4e02-bfee-439824fd1531": {
     "id": "8e6f8d05-be0e-4e02-bfee-439824fd1531",
     "prev": "db587315-8556-4ff7-9362-076c763333a4",
     "regions": {
      "b0223afe-a4cd-4546-876e-80275517ab22": {
       "attrs": {
        "height": 0.8,
        "width": 0.8,
        "x": 0.1,
        "y": 0.1
       },
       "content": {
        "cell": "2324164c-b454-4ba6-b441-1c3091ed4650",
        "part": "whole"
       },
       "id": "b0223afe-a4cd-4546-876e-80275517ab22"
      }
     }
    },
    "932ea8a3-0647-4006-8aa4-782dbb4f9f13": {
     "id": "932ea8a3-0647-4006-8aa4-782dbb4f9f13",
     "prev": "43b1fed8-356f-4dce-b689-b58ff497f6b7",
     "regions": {
      "8a2283b8-0666-49c6-93c3-c110c6345eee": {
       "attrs": {
        "height": 0.8,
        "width": 0.8,
        "x": 0.1,
        "y": 0.1
       },
       "content": {
        "cell": "f2fc75fe-8afe-4026-b918-a509fdb94ebb",
        "part": "whole"
       },
       "id": "8a2283b8-0666-49c6-93c3-c110c6345eee"
      }
     }
    },
    "99db228c-f169-441f-b2f2-4ab83023142b": {
     "id": "99db228c-f169-441f-b2f2-4ab83023142b",
     "prev": "622530fd-b2b2-4a59-b7bd-586691d7ee8d",
     "regions": {
      "2b8388c5-861f-42c9-8521-6ce5a539ae65": {
       "attrs": {
        "height": 0.8,
        "width": 0.8,
        "x": 0.1,
        "y": 0.1
       },
       "content": {
        "cell": "caa90303-aa22-45f5-9c6f-f652ed89d873",
        "part": "whole"
       },
       "id": "2b8388c5-861f-42c9-8521-6ce5a539ae65"
      }
     }
    },
    "9f6c997c-1128-435a-83f2-0e103dfe467b": {
     "id": "9f6c997c-1128-435a-83f2-0e103dfe467b",
     "prev": "5bced1ce-e540-4e4a-aa0c-12a42dcf91bf",
     "regions": {
      "26105b27-eada-49e5-b11f-413edee3e1f7": {
       "attrs": {
        "height": 0.8,
        "width": 0.8,
        "x": 0.1,
        "y": 0.1
       },
       "content": {
        "cell": "ae99a834-7946-40ef-99f4-1e2b1999b9d3",
        "part": "whole"
       },
       "id": "26105b27-eada-49e5-b11f-413edee3e1f7"
      }
     }
    },
    "a47238c8-d221-42b8-8103-7a550e4d6517": {
     "id": "a47238c8-d221-42b8-8103-7a550e4d6517",
     "prev": "8e6f8d05-be0e-4e02-bfee-439824fd1531",
     "regions": {
      "f61cc1c7-bf9a-40a2-b7c6-dca3de401b47": {
       "attrs": {
        "height": 0.8,
        "width": 0.8,
        "x": 0.1,
        "y": 0.1
       },
       "content": {
        "cell": "3953fa06-b1ce-4c48-95ac-9ac143708f5a",
        "part": "whole"
       },
       "id": "f61cc1c7-bf9a-40a2-b7c6-dca3de401b47"
      }
     }
    },
    "a91c1b84-c9a9-4eae-9e43-c3020ff9f068": {
     "id": "a91c1b84-c9a9-4eae-9e43-c3020ff9f068",
     "prev": "ab5967c0-8acf-482a-9a66-9458d5fc18c1",
     "regions": {
      "9093caba-01c4-4064-9edd-4cebb8a44ffd": {
       "attrs": {
        "height": 0.8,
        "width": 0.8,
        "x": 0.1,
        "y": 0.1
       },
       "content": {
        "cell": "30fe007d-a032-4aa9-8ce0-c797a6ec63d6",
        "part": "whole"
       },
       "id": "9093caba-01c4-4064-9edd-4cebb8a44ffd"
      }
     }
    },
    "ab5967c0-8acf-482a-9a66-9458d5fc18c1": {
     "id": "ab5967c0-8acf-482a-9a66-9458d5fc18c1",
     "prev": "674db0bd-8457-42c0-9199-ac822796854c",
     "regions": {
      "7e23b9bc-e584-4886-806b-09db3d794dd1": {
       "attrs": {
        "height": 0.8,
        "width": 0.8,
        "x": 0.1,
        "y": 0.1
       },
       "content": {
        "cell": "4f7cfbd9-16cb-4406-909c-7b3cad3a6411",
        "part": "whole"
       },
       "id": "7e23b9bc-e584-4886-806b-09db3d794dd1"
      }
     }
    },
    "af70b05f-7db5-42da-bc97-f2aa5513d313": {
     "id": "af70b05f-7db5-42da-bc97-f2aa5513d313",
     "prev": "3bfdeae6-73c0-48ea-b459-2712c4482a2b",
     "regions": {
      "03e0bd52-f430-4396-9cf8-6318fd5f15c7": {
       "attrs": {
        "height": 0.8,
        "width": 0.8,
        "x": 0.1,
        "y": 0.1
       },
       "content": {
        "cell": "bda10878-c4e1-4ead-a883-f0d87d4d0e84",
        "part": "whole"
       },
       "id": "03e0bd52-f430-4396-9cf8-6318fd5f15c7"
      }
     }
    },
    "b4f72071-019f-4607-a667-b5a25bc6d327": {
     "id": "b4f72071-019f-4607-a667-b5a25bc6d327",
     "prev": "75971a30-1686-4e6b-96fe-6feb4171c21d",
     "regions": {
      "cc03d249-8652-4d35-8bc9-d19aaae8cf7f": {
       "attrs": {
        "height": 0.8,
        "width": 0.8,
        "x": 0.1,
        "y": 0.1
       },
       "content": {
        "cell": "5d94f1f8-f087-47a3-b945-0cbf4d65aa6d",
        "part": "whole"
       },
       "id": "cc03d249-8652-4d35-8bc9-d19aaae8cf7f"
      }
     }
    },
    "b753dc1f-5109-4239-9564-441f4aa2943a": {
     "id": "b753dc1f-5109-4239-9564-441f4aa2943a",
     "prev": "932ea8a3-0647-4006-8aa4-782dbb4f9f13",
     "regions": {
      "b402f5e6-d8d1-493d-a060-ae33f01350f2": {
       "attrs": {
        "height": 0.8,
        "width": 0.8,
        "x": 0.1,
        "y": 0.1
       },
       "content": {
        "cell": "8fa5c1cd-af88-44ea-a33e-8140d04a9b0e",
        "part": "whole"
       },
       "id": "b402f5e6-d8d1-493d-a060-ae33f01350f2"
      }
     }
    },
    "b79f55ee-4693-490f-a0de-7bce37b9aa4a": {
     "id": "b79f55ee-4693-490f-a0de-7bce37b9aa4a",
     "prev": "d5ebf00b-6d8b-4606-936a-5a58e8fa3283",
     "regions": {
      "bd46e6b1-e737-4334-9724-45a243836550": {
       "attrs": {
        "height": 0.8,
        "width": 0.8,
        "x": 0.1,
        "y": 0.1
       },
       "content": {
        "cell": "28a73360-2c20-46fb-8f26-61c76a6fe255",
        "part": "whole"
       },
       "id": "bd46e6b1-e737-4334-9724-45a243836550"
      }
     }
    },
    "b8525aba-7113-4f1c-891e-05122dc77ca3": {
     "id": "b8525aba-7113-4f1c-891e-05122dc77ca3",
     "prev": "7febaa6e-5111-45f4-bd57-f99268277dfb",
     "regions": {
      "cabd7de5-ce8d-4f54-a227-0eacfee83dc0": {
       "attrs": {
        "height": 0.8,
        "width": 0.8,
        "x": 0.1,
        "y": 0.1
       },
       "content": {
        "cell": "ae1f2652-c788-4267-9a04-dd1ab6dadc98",
        "part": "whole"
       },
       "id": "cabd7de5-ce8d-4f54-a227-0eacfee83dc0"
      }
     }
    },
    "bec69f53-aed1-443e-b2bb-a87227409114": {
     "id": "bec69f53-aed1-443e-b2bb-a87227409114",
     "prev": "73ea9b74-54da-41b5-a5b7-aa6442d20537",
     "regions": {
      "1a4f442b-4cc7-49a3-a6a4-840bfc007f6a": {
       "attrs": {
        "height": 0.8,
        "width": 0.8,
        "x": 0.1,
        "y": 0.1
       },
       "content": {
        "cell": "4e7f1eb0-4b93-48f5-8c95-adf0c40920b3",
        "part": "whole"
       },
       "id": "1a4f442b-4cc7-49a3-a6a4-840bfc007f6a"
      }
     }
    },
    "c34cef60-449d-421f-9e0e-25b0e3743b6b": {
     "id": "c34cef60-449d-421f-9e0e-25b0e3743b6b",
     "prev": "277d74dd-6bce-4ffb-b828-68d52716934e",
     "regions": {
      "08147ea4-91b5-44cc-b5f1-81cf24ed9f3e": {
       "attrs": {
        "height": 0.8,
        "width": 0.8,
        "x": 0.1,
        "y": 0.1
       },
       "content": {
        "cell": "49d250ce-b251-421b-9174-23d3f90d3d4e",
        "part": "whole"
       },
       "id": "08147ea4-91b5-44cc-b5f1-81cf24ed9f3e"
      }
     }
    },
    "c44bca0e-ca0e-4b72-bb3e-fdea59816d18": {
     "id": "c44bca0e-ca0e-4b72-bb3e-fdea59816d18",
     "prev": "5a41eb30-26f6-44c7-b069-b1e16af62cc9",
     "regions": {
      "203ff35d-1f5f-4046-b6c9-9cf115c98d5d": {
       "attrs": {
        "height": 0.8,
        "width": 0.8,
        "x": 0.1,
        "y": 0.1
       },
       "content": {
        "cell": "142b5648-c534-4c60-9814-bb04d42983e4",
        "part": "whole"
       },
       "id": "203ff35d-1f5f-4046-b6c9-9cf115c98d5d"
      }
     }
    },
    "c82e7c4f-3258-456b-a280-2e2024deae23": {
     "id": "c82e7c4f-3258-456b-a280-2e2024deae23",
     "prev": "187256de-5113-48d4-8703-2b62b0878232",
     "regions": {
      "4f21ea5a-8f90-4a4b-9434-5ef321521820": {
       "attrs": {
        "height": 0.8,
        "width": 0.8,
        "x": 0.1,
        "y": 0.1
       },
       "content": {
        "cell": "9005ba51-0173-499e-a2ee-341c59e2eada",
        "part": "whole"
       },
       "id": "4f21ea5a-8f90-4a4b-9434-5ef321521820"
      }
     }
    },
    "c9a6fbf9-3dc1-49fe-8a9a-4b952fd887fc": {
     "id": "c9a6fbf9-3dc1-49fe-8a9a-4b952fd887fc",
     "prev": "42e85c8d-d0e9-4a1b-ac04-51fbb06bb9d3",
     "regions": {
      "d1798f75-d3e4-46df-a3cc-b9b5c6d95499": {
       "attrs": {
        "height": 0.8,
        "width": 0.8,
        "x": 0.1,
        "y": 0.1
       },
       "content": {
        "cell": "edfb23a5-3a17-404b-aed5-01e593df706a",
        "part": "whole"
       },
       "id": "d1798f75-d3e4-46df-a3cc-b9b5c6d95499"
      }
     }
    },
    "ca7b4d13-4fa9-4745-8246-790e41c3e9d9": {
     "id": "ca7b4d13-4fa9-4745-8246-790e41c3e9d9",
     "prev": "c44bca0e-ca0e-4b72-bb3e-fdea59816d18",
     "regions": {
      "f49b0110-0090-402a-b45a-a6962bc655c9": {
       "attrs": {
        "height": 0.8,
        "width": 0.8,
        "x": 0.1,
        "y": 0.1
       },
       "content": {
        "cell": "031b809d-2829-49bd-9873-016ed9c57075",
        "part": "whole"
       },
       "id": "f49b0110-0090-402a-b45a-a6962bc655c9"
      }
     }
    },
    "caf4da5c-d8a8-46a6-813b-8c52c9260fb2": {
     "id": "caf4da5c-d8a8-46a6-813b-8c52c9260fb2",
     "prev": "b753dc1f-5109-4239-9564-441f4aa2943a",
     "regions": {
      "5768a663-3034-44a2-956f-2621ac5a4c4b": {
       "attrs": {
        "height": 0.8,
        "width": 0.8,
        "x": 0.1,
        "y": 0.1
       },
       "content": {
        "cell": "3774c04d-6b2b-40da-8c2a-fa0af3be9ab2",
        "part": "whole"
       },
       "id": "5768a663-3034-44a2-956f-2621ac5a4c4b"
      }
     }
    },
    "ccf782cb-79e2-4308-9dd2-126c95e7e051": {
     "id": "ccf782cb-79e2-4308-9dd2-126c95e7e051",
     "prev": "6782cca6-61fc-46df-baa8-92482936b5c6",
     "regions": {
      "4b40db98-7e29-442a-ad9e-86deeb032333": {
       "attrs": {
        "height": 0.8,
        "width": 0.8,
        "x": 0.1,
        "y": 0.1
       },
       "content": {
        "cell": "a5ba29e4-e833-4ec4-9dee-505ea5892a97",
        "part": "whole"
       },
       "id": "4b40db98-7e29-442a-ad9e-86deeb032333"
      }
     }
    },
    "cf9bff49-6eb7-4e26-998b-a26cb07413c0": {
     "id": "cf9bff49-6eb7-4e26-998b-a26cb07413c0",
     "prev": "8a138275-7f12-48a7-a361-e8c81fc7833d",
     "regions": {
      "0ef3bfbd-96f3-493a-b826-58f2606c176b": {
       "attrs": {
        "height": 0.8,
        "width": 0.8,
        "x": 0.1,
        "y": 0.1
       },
       "content": {
        "cell": "8faa235b-ac7e-4bce-b6ad-37fecb2f82d1",
        "part": "whole"
       },
       "id": "0ef3bfbd-96f3-493a-b826-58f2606c176b"
      }
     }
    },
    "d5ebf00b-6d8b-4606-936a-5a58e8fa3283": {
     "id": "d5ebf00b-6d8b-4606-936a-5a58e8fa3283",
     "prev": "af70b05f-7db5-42da-bc97-f2aa5513d313",
     "regions": {
      "cfb523c8-148e-413f-b8ff-14719f42c780": {
       "attrs": {
        "height": 0.8,
        "width": 0.8,
        "x": 0.1,
        "y": 0.1
       },
       "content": {
        "cell": "edcc0a1d-3780-4688-ba15-46ce40be1577",
        "part": "whole"
       },
       "id": "cfb523c8-148e-413f-b8ff-14719f42c780"
      }
     }
    },
    "db587315-8556-4ff7-9362-076c763333a4": {
     "id": "db587315-8556-4ff7-9362-076c763333a4",
     "prev": "67afe184-48d2-434f-895d-037c2ecb5d1f",
     "regions": {
      "3c3ff116-1e24-46af-be7f-9c89302aabe4": {
       "attrs": {
        "height": 0.8,
        "width": 0.8,
        "x": 0.1,
        "y": 0.1
       },
       "content": {
        "cell": "e623a5e3-0765-4326-b53b-d3886a9143ea",
        "part": "whole"
       },
       "id": "3c3ff116-1e24-46af-be7f-9c89302aabe4"
      }
     }
    },
    "e3660d49-bb1c-4da0-9e49-0438be31a8d6": {
     "id": "e3660d49-bb1c-4da0-9e49-0438be31a8d6",
     "prev": "1b4c5b95-31b6-475f-ab06-a603f0028d78",
     "regions": {
      "13f5141c-ba0a-45a6-a1e3-815b440ac43b": {
       "attrs": {
        "height": 0.8,
        "width": 0.8,
        "x": 0.1,
        "y": 0.1
       },
       "content": {
        "cell": "148cc43c-0d6c-47ad-99a0-432d129ba4e4",
        "part": "whole"
       },
       "id": "13f5141c-ba0a-45a6-a1e3-815b440ac43b"
      }
     }
    },
    "e67f8049-cf0b-46b7-9c11-16e7b9bedb13": {
     "id": "e67f8049-cf0b-46b7-9c11-16e7b9bedb13",
     "prev": "59fe39d5-2d9b-4951-b77a-fb4fcff9dce4",
     "regions": {
      "084c1fde-09f8-4353-95d6-36ea0bc3b348": {
       "attrs": {
        "height": 0.8,
        "width": 0.8,
        "x": 0.1,
        "y": 0.1
       },
       "content": {
        "cell": "327e92ff-5ba6-4494-b88e-0d313354f25c",
        "part": "whole"
       },
       "id": "084c1fde-09f8-4353-95d6-36ea0bc3b348"
      }
     }
    },
    "eb8676d4-9e1e-48c3-8bef-269dff7962ac": {
     "id": "eb8676d4-9e1e-48c3-8bef-269dff7962ac",
     "prev": "a47238c8-d221-42b8-8103-7a550e4d6517",
     "regions": {
      "41d268ac-cef8-4c3b-9ea5-c9e3f41bfa67": {
       "attrs": {
        "height": 0.8,
        "width": 0.8,
        "x": 0.1,
        "y": 0.1
       },
       "content": {
        "cell": "b0f3588a-e260-4246-b973-bdb89cc4397e",
        "part": "whole"
       },
       "id": "41d268ac-cef8-4c3b-9ea5-c9e3f41bfa67"
      }
     }
    },
    "f2217338-2d06-4373-9efa-b264de00dc8d": {
     "id": "f2217338-2d06-4373-9efa-b264de00dc8d",
     "prev": "9f6c997c-1128-435a-83f2-0e103dfe467b",
     "regions": {
      "b04dc5d7-b538-4c10-8475-6c69d91b19df": {
       "attrs": {
        "height": 0.8,
        "width": 0.8,
        "x": 0.1,
        "y": 0.1
       },
       "content": {
        "cell": "5873023f-638e-4913-a7af-c032bbedd08b",
        "part": "whole"
       },
       "id": "b04dc5d7-b538-4c10-8475-6c69d91b19df"
      }
     }
    },
    "f80add19-5538-41bf-99d1-91a29adf3b87": {
     "id": "f80add19-5538-41bf-99d1-91a29adf3b87",
     "prev": "307540d7-ba75-4d67-becc-a47b53ae2e39",
     "regions": {
      "f6c03cf9-03c0-4248-9f08-e0889fc82cf5": {
       "attrs": {
        "height": 0.8,
        "width": 0.8,
        "x": 0.1,
        "y": 0.1
       },
       "content": {
        "cell": "cee89978-44f1-4331-9448-51801f67f564",
        "part": "whole"
       },
       "id": "f6c03cf9-03c0-4248-9f08-e0889fc82cf5"
      }
     }
    },
    "fbc58f42-a092-44b5-9030-72589d81d584": {
     "id": "fbc58f42-a092-44b5-9030-72589d81d584",
     "prev": "c9a6fbf9-3dc1-49fe-8a9a-4b952fd887fc",
     "regions": {
      "7e9a9c9c-25cd-4f45-b555-a76fa33bfdca": {
       "attrs": {
        "height": 0.8,
        "width": 0.8,
        "x": 0.1,
        "y": 0.1
       },
       "content": {
        "cell": "a96d94f7-10ad-4dd4-b3c4-315bd283bc4a",
        "part": "whole"
       },
       "id": "7e9a9c9c-25cd-4f45-b555-a76fa33bfdca"
      }
     }
    },
    "fca1aa7a-7a88-44ff-ad80-b9bc72c0e4de": {
     "id": "fca1aa7a-7a88-44ff-ad80-b9bc72c0e4de",
     "prev": "22764a94-26e0-4b49-809c-fe2225aff3ac",
     "regions": {
      "2963867d-9a66-4cbd-9ada-a78e025f9d03": {
       "attrs": {
        "height": 0.8,
        "width": 0.8,
        "x": 0.1,
        "y": 0.1
       },
       "content": {
        "cell": "3d7ea133-df8e-4d02-9b15-73fc413609e4",
        "part": "whole"
       },
       "id": "2963867d-9a66-4cbd-9ada-a78e025f9d03"
      }
     }
    }
   },
   "themes": {}
  }
 },
 "nbformat": 4,
 "nbformat_minor": 0
}
